{
 "cells": [
  {
   "cell_type": "code",
   "execution_count": 49,
   "metadata": {
    "collapsed": true
   },
   "outputs": [],
   "source": [
    "%matplotlib inline\n",
    "import numpy as np\n",
    "import pandas as pd\n",
    "import matplotlib.pyplot as plt\n",
    "import sklearn\n",
    "import json\n",
    "from sklearn.preprocessing import MinMaxScaler\n",
    "from sklearn.cluster import KMeans \n",
    "from sklearn.metrics.cluster import completeness_score,homogeneity_score\n",
    "import warnings\n",
    "warnings.filterwarnings('ignore')"
   ]
  },
  {
   "cell_type": "code",
   "execution_count": 2,
   "metadata": {
    "collapsed": true
   },
   "outputs": [],
   "source": [
    "pd.set_option('display.max_columns', 999)\n",
    "pd.set_option('display.max_rows', 30)\n",
    "np.set_printoptions(linewidth=75,suppress=True)"
   ]
  },
  {
   "cell_type": "markdown",
   "metadata": {},
   "source": [
    "# 1. Load the Data Set"
   ]
  },
  {
   "cell_type": "code",
   "execution_count": 4,
   "metadata": {
    "collapsed": true
   },
   "outputs": [],
   "source": [
    "def load_data(filepath):\n",
    "    data = []\n",
    "    with open(filepath, encoding=\"utf8\") as file:\n",
    "        for line in file:\n",
    "            data.append(json.loads(line.rstrip()))\n",
    "\n",
    "    return data"
   ]
  },
  {
   "cell_type": "markdown",
   "metadata": {},
   "source": [
    "## 1.1 Review Data"
   ]
  },
  {
   "cell_type": "code",
   "execution_count": 5,
   "metadata": {
    "collapsed": true
   },
   "outputs": [],
   "source": [
    "reviewdata = load_data('review.json')"
   ]
  },
  {
   "cell_type": "code",
   "execution_count": 6,
   "metadata": {
    "scrolled": true
   },
   "outputs": [
    {
     "data": {
      "text/plain": [
       "4736897"
      ]
     },
     "execution_count": 6,
     "metadata": {},
     "output_type": "execute_result"
    }
   ],
   "source": [
    "len(reviewdata)"
   ]
  },
  {
   "cell_type": "code",
   "execution_count": 7,
   "metadata": {
    "collapsed": true
   },
   "outputs": [],
   "source": [
    "review_df = pd.DataFrame.from_dict(reviewdata)"
   ]
  },
  {
   "cell_type": "code",
   "execution_count": 10,
   "metadata": {},
   "outputs": [
    {
     "data": {
      "text/html": [
       "<div>\n",
       "<style>\n",
       "    .dataframe thead tr:only-child th {\n",
       "        text-align: right;\n",
       "    }\n",
       "\n",
       "    .dataframe thead th {\n",
       "        text-align: left;\n",
       "    }\n",
       "\n",
       "    .dataframe tbody tr th {\n",
       "        vertical-align: top;\n",
       "    }\n",
       "</style>\n",
       "<table border=\"1\" class=\"dataframe\">\n",
       "  <thead>\n",
       "    <tr style=\"text-align: right;\">\n",
       "      <th></th>\n",
       "      <th>business_id</th>\n",
       "      <th>cool</th>\n",
       "      <th>date</th>\n",
       "      <th>funny</th>\n",
       "      <th>review_id</th>\n",
       "      <th>stars</th>\n",
       "      <th>text</th>\n",
       "      <th>useful</th>\n",
       "      <th>user_id</th>\n",
       "    </tr>\n",
       "  </thead>\n",
       "  <tbody>\n",
       "    <tr>\n",
       "      <th>0</th>\n",
       "      <td>uYHaNptLzDLoV_JZ_MuzUA</td>\n",
       "      <td>0</td>\n",
       "      <td>2016-07-12</td>\n",
       "      <td>0</td>\n",
       "      <td>VfBHSwC5Vz_pbFluy07i9Q</td>\n",
       "      <td>5</td>\n",
       "      <td>My girlfriend and I stayed here for 3 nights a...</td>\n",
       "      <td>0</td>\n",
       "      <td>cjpdDjZyprfyDG3RlkVG3w</td>\n",
       "    </tr>\n",
       "    <tr>\n",
       "      <th>1</th>\n",
       "      <td>uYHaNptLzDLoV_JZ_MuzUA</td>\n",
       "      <td>0</td>\n",
       "      <td>2016-10-02</td>\n",
       "      <td>0</td>\n",
       "      <td>3zRpneRKDsOPq92tq7ybAA</td>\n",
       "      <td>3</td>\n",
       "      <td>If you need an inexpensive place to stay for a...</td>\n",
       "      <td>0</td>\n",
       "      <td>bjTcT8Ty4cJZhEOEo01FGA</td>\n",
       "    </tr>\n",
       "    <tr>\n",
       "      <th>2</th>\n",
       "      <td>uYHaNptLzDLoV_JZ_MuzUA</td>\n",
       "      <td>0</td>\n",
       "      <td>2015-09-17</td>\n",
       "      <td>0</td>\n",
       "      <td>ne5WhI1jUFOcRn-b-gAzHA</td>\n",
       "      <td>3</td>\n",
       "      <td>Mittlerweile gibt es in Edinburgh zwei Ableger...</td>\n",
       "      <td>0</td>\n",
       "      <td>AXgRULmWcME7J6Ix3I--ww</td>\n",
       "    </tr>\n",
       "    <tr>\n",
       "      <th>3</th>\n",
       "      <td>uYHaNptLzDLoV_JZ_MuzUA</td>\n",
       "      <td>0</td>\n",
       "      <td>2016-08-21</td>\n",
       "      <td>0</td>\n",
       "      <td>llmdwOgDReucVoWEry61Lw</td>\n",
       "      <td>4</td>\n",
       "      <td>Location is everything and this hotel has it! ...</td>\n",
       "      <td>0</td>\n",
       "      <td>oU2SSOmsp_A8JYI7Z2JJ5w</td>\n",
       "    </tr>\n",
       "    <tr>\n",
       "      <th>4</th>\n",
       "      <td>uYHaNptLzDLoV_JZ_MuzUA</td>\n",
       "      <td>0</td>\n",
       "      <td>2013-11-20</td>\n",
       "      <td>0</td>\n",
       "      <td>DuffS87NaSMDmIfluvT83g</td>\n",
       "      <td>5</td>\n",
       "      <td>gute lage im stadtzentrum. shoppingmeile und s...</td>\n",
       "      <td>0</td>\n",
       "      <td>0xtbPEna2Kei11vsU-U2Mw</td>\n",
       "    </tr>\n",
       "  </tbody>\n",
       "</table>\n",
       "</div>"
      ],
      "text/plain": [
       "              business_id  cool        date  funny               review_id  \\\n",
       "0  uYHaNptLzDLoV_JZ_MuzUA     0  2016-07-12      0  VfBHSwC5Vz_pbFluy07i9Q   \n",
       "1  uYHaNptLzDLoV_JZ_MuzUA     0  2016-10-02      0  3zRpneRKDsOPq92tq7ybAA   \n",
       "2  uYHaNptLzDLoV_JZ_MuzUA     0  2015-09-17      0  ne5WhI1jUFOcRn-b-gAzHA   \n",
       "3  uYHaNptLzDLoV_JZ_MuzUA     0  2016-08-21      0  llmdwOgDReucVoWEry61Lw   \n",
       "4  uYHaNptLzDLoV_JZ_MuzUA     0  2013-11-20      0  DuffS87NaSMDmIfluvT83g   \n",
       "\n",
       "   stars                                               text  useful  \\\n",
       "0      5  My girlfriend and I stayed here for 3 nights a...       0   \n",
       "1      3  If you need an inexpensive place to stay for a...       0   \n",
       "2      3  Mittlerweile gibt es in Edinburgh zwei Ableger...       0   \n",
       "3      4  Location is everything and this hotel has it! ...       0   \n",
       "4      5  gute lage im stadtzentrum. shoppingmeile und s...       0   \n",
       "\n",
       "                  user_id  \n",
       "0  cjpdDjZyprfyDG3RlkVG3w  \n",
       "1  bjTcT8Ty4cJZhEOEo01FGA  \n",
       "2  AXgRULmWcME7J6Ix3I--ww  \n",
       "3  oU2SSOmsp_A8JYI7Z2JJ5w  \n",
       "4  0xtbPEna2Kei11vsU-U2Mw  "
      ]
     },
     "execution_count": 10,
     "metadata": {},
     "output_type": "execute_result"
    }
   ],
   "source": [
    "review_df.head()"
   ]
  },
  {
   "cell_type": "markdown",
   "metadata": {},
   "source": [
    "### Load the business_id of restaurants in Las Vegas"
   ]
  },
  {
   "cell_type": "code",
   "execution_count": 11,
   "metadata": {
    "collapsed": true
   },
   "outputs": [],
   "source": [
    "lv_res_id=np.loadtxt('lv_restaurants_id.txt',dtype=bytes, delimiter=\"\\n\").astype(str)"
   ]
  },
  {
   "cell_type": "code",
   "execution_count": 12,
   "metadata": {},
   "outputs": [
    {
     "data": {
      "text/plain": [
       "array(['LDMCrFlGIFUN6L-FEFgzWg', 'QTH_XGh4rWYdd0fTW-tUDw',\n",
       "       'DiA78qPtp6rfRNdomzjBbw', 'YTqtM2WFhcMZGeAGA08Cfg',\n",
       "       'Oto60yDwk1z72WmfWEYrjg', 'mUk-0jToBuzk4KaDXp-uew',\n",
       "       '1CP8aJa8ILlfM5deroar0Q', 'TYGVaav4hWZioQlk9Ig78A',\n",
       "       'Wbi-x-1Nbn6LFCMOSN6F5Q', 'W-3Sy3fy85mQdd0ZNFKIiw'], \n",
       "      dtype='<U22')"
      ]
     },
     "execution_count": 12,
     "metadata": {},
     "output_type": "execute_result"
    }
   ],
   "source": [
    "lv_res_id[:10]"
   ]
  },
  {
   "cell_type": "code",
   "execution_count": null,
   "metadata": {
    "collapsed": true
   },
   "outputs": [],
   "source": []
  },
  {
   "cell_type": "markdown",
   "metadata": {},
   "source": [
    "### Sanity Check"
   ]
  },
  {
   "cell_type": "code",
   "execution_count": 13,
   "metadata": {},
   "outputs": [
    {
     "data": {
      "text/html": [
       "<div>\n",
       "<style>\n",
       "    .dataframe thead tr:only-child th {\n",
       "        text-align: right;\n",
       "    }\n",
       "\n",
       "    .dataframe thead th {\n",
       "        text-align: left;\n",
       "    }\n",
       "\n",
       "    .dataframe tbody tr th {\n",
       "        vertical-align: top;\n",
       "    }\n",
       "</style>\n",
       "<table border=\"1\" class=\"dataframe\">\n",
       "  <thead>\n",
       "    <tr style=\"text-align: right;\">\n",
       "      <th></th>\n",
       "      <th>business_id</th>\n",
       "      <th>cool</th>\n",
       "      <th>date</th>\n",
       "      <th>funny</th>\n",
       "      <th>review_id</th>\n",
       "      <th>stars</th>\n",
       "      <th>text</th>\n",
       "      <th>useful</th>\n",
       "      <th>user_id</th>\n",
       "    </tr>\n",
       "  </thead>\n",
       "  <tbody>\n",
       "    <tr>\n",
       "      <th>105842</th>\n",
       "      <td>LDMCrFlGIFUN6L-FEFgzWg</td>\n",
       "      <td>0</td>\n",
       "      <td>2014-11-26</td>\n",
       "      <td>0</td>\n",
       "      <td>VSpTKm_Z7N9_-6jbbkozmA</td>\n",
       "      <td>2</td>\n",
       "      <td>I've been eating chicken at el poll loco since...</td>\n",
       "      <td>0</td>\n",
       "      <td>yeyeg8Vm4Lxvf4tZqoiKIA</td>\n",
       "    </tr>\n",
       "    <tr>\n",
       "      <th>105843</th>\n",
       "      <td>LDMCrFlGIFUN6L-FEFgzWg</td>\n",
       "      <td>0</td>\n",
       "      <td>2015-06-26</td>\n",
       "      <td>0</td>\n",
       "      <td>4gH-5f0ewrH2Vvl0UYtQQA</td>\n",
       "      <td>1</td>\n",
       "      <td>I'm at training for work and went for a quick ...</td>\n",
       "      <td>0</td>\n",
       "      <td>GLGz9sSNHIbguwv90XStYA</td>\n",
       "    </tr>\n",
       "    <tr>\n",
       "      <th>105844</th>\n",
       "      <td>LDMCrFlGIFUN6L-FEFgzWg</td>\n",
       "      <td>1</td>\n",
       "      <td>2014-05-27</td>\n",
       "      <td>0</td>\n",
       "      <td>1qBsRv6joCOCZzs8BGKk0w</td>\n",
       "      <td>4</td>\n",
       "      <td>Newly decorated. Great chicken. Ordering could...</td>\n",
       "      <td>0</td>\n",
       "      <td>rcwQ0ubBNHRGdqjbQQ-Usg</td>\n",
       "    </tr>\n",
       "    <tr>\n",
       "      <th>105845</th>\n",
       "      <td>LDMCrFlGIFUN6L-FEFgzWg</td>\n",
       "      <td>2</td>\n",
       "      <td>2015-06-18</td>\n",
       "      <td>1</td>\n",
       "      <td>qlnMpBo8_GWhlJE6zR51qA</td>\n",
       "      <td>3</td>\n",
       "      <td>Given this location is close to my work I find...</td>\n",
       "      <td>2</td>\n",
       "      <td>YxqLJwDgcL4OoDB1hN-Ikg</td>\n",
       "    </tr>\n",
       "    <tr>\n",
       "      <th>105846</th>\n",
       "      <td>LDMCrFlGIFUN6L-FEFgzWg</td>\n",
       "      <td>0</td>\n",
       "      <td>2014-11-25</td>\n",
       "      <td>0</td>\n",
       "      <td>FdsAx-XpgfWzLHUDJWZTzw</td>\n",
       "      <td>3</td>\n",
       "      <td>Food is good prices are good and service was g...</td>\n",
       "      <td>0</td>\n",
       "      <td>6ouNbGA50B7WUUhZuOy0Cw</td>\n",
       "    </tr>\n",
       "    <tr>\n",
       "      <th>105847</th>\n",
       "      <td>LDMCrFlGIFUN6L-FEFgzWg</td>\n",
       "      <td>0</td>\n",
       "      <td>2015-05-15</td>\n",
       "      <td>0</td>\n",
       "      <td>woYGBjLlsrezUvBKiBwwhg</td>\n",
       "      <td>1</td>\n",
       "      <td>Never again will I return.  The culture of thi...</td>\n",
       "      <td>0</td>\n",
       "      <td>i1zH7hGJs_accdfjEzrwUQ</td>\n",
       "    </tr>\n",
       "    <tr>\n",
       "      <th>105848</th>\n",
       "      <td>LDMCrFlGIFUN6L-FEFgzWg</td>\n",
       "      <td>0</td>\n",
       "      <td>2017-02-15</td>\n",
       "      <td>0</td>\n",
       "      <td>_u6u4NB9XTNPgDOqJUbF7Q</td>\n",
       "      <td>5</td>\n",
       "      <td>this one is one of my favorite locations . Foo...</td>\n",
       "      <td>0</td>\n",
       "      <td>5TRDoYHqVvC81mq_p76HlQ</td>\n",
       "    </tr>\n",
       "    <tr>\n",
       "      <th>105849</th>\n",
       "      <td>LDMCrFlGIFUN6L-FEFgzWg</td>\n",
       "      <td>0</td>\n",
       "      <td>2015-06-16</td>\n",
       "      <td>0</td>\n",
       "      <td>ilj0ZswUKjNMjw2kz7cgTg</td>\n",
       "      <td>4</td>\n",
       "      <td>A great mix between an authentic Mexican taco ...</td>\n",
       "      <td>0</td>\n",
       "      <td>Pg-sMoiilKCVPs41vf5V_Q</td>\n",
       "    </tr>\n",
       "    <tr>\n",
       "      <th>105850</th>\n",
       "      <td>LDMCrFlGIFUN6L-FEFgzWg</td>\n",
       "      <td>0</td>\n",
       "      <td>2017-06-05</td>\n",
       "      <td>0</td>\n",
       "      <td>lQQ7DaHdAxtVvZXf2YoTBg</td>\n",
       "      <td>1</td>\n",
       "      <td>Do not go to this el pollo loco! They rude as ...</td>\n",
       "      <td>0</td>\n",
       "      <td>wJ7yczc2Eqw9Fqr4rNBnqw</td>\n",
       "    </tr>\n",
       "    <tr>\n",
       "      <th>105851</th>\n",
       "      <td>LDMCrFlGIFUN6L-FEFgzWg</td>\n",
       "      <td>1</td>\n",
       "      <td>2015-07-20</td>\n",
       "      <td>1</td>\n",
       "      <td>gSDvkkVS7C0exFEik8RF8A</td>\n",
       "      <td>4</td>\n",
       "      <td>Quick. Fast. Fresh and always Delicious!\\nThis...</td>\n",
       "      <td>1</td>\n",
       "      <td>Wdm3hCNmJwD689wD6-Bb0w</td>\n",
       "    </tr>\n",
       "    <tr>\n",
       "      <th>105852</th>\n",
       "      <td>LDMCrFlGIFUN6L-FEFgzWg</td>\n",
       "      <td>1</td>\n",
       "      <td>2015-09-28</td>\n",
       "      <td>0</td>\n",
       "      <td>d-qPTN-jQfUrXQDt0BtPdg</td>\n",
       "      <td>4</td>\n",
       "      <td>Every time I come to this El Pollo Loco it is ...</td>\n",
       "      <td>2</td>\n",
       "      <td>8PPZWuvr3CY2uu0X7Ot-xA</td>\n",
       "    </tr>\n",
       "    <tr>\n",
       "      <th>105853</th>\n",
       "      <td>LDMCrFlGIFUN6L-FEFgzWg</td>\n",
       "      <td>0</td>\n",
       "      <td>2017-07-05</td>\n",
       "      <td>0</td>\n",
       "      <td>4-UYDaFcO-VQ3C1Kr6y38A</td>\n",
       "      <td>1</td>\n",
       "      <td>Worst place to come eat.  My fist time here to...</td>\n",
       "      <td>0</td>\n",
       "      <td>vRJxRdfQ1JJnFtgDhICKcA</td>\n",
       "    </tr>\n",
       "  </tbody>\n",
       "</table>\n",
       "</div>"
      ],
      "text/plain": [
       "                   business_id  cool        date  funny  \\\n",
       "105842  LDMCrFlGIFUN6L-FEFgzWg     0  2014-11-26      0   \n",
       "105843  LDMCrFlGIFUN6L-FEFgzWg     0  2015-06-26      0   \n",
       "105844  LDMCrFlGIFUN6L-FEFgzWg     1  2014-05-27      0   \n",
       "105845  LDMCrFlGIFUN6L-FEFgzWg     2  2015-06-18      1   \n",
       "105846  LDMCrFlGIFUN6L-FEFgzWg     0  2014-11-25      0   \n",
       "105847  LDMCrFlGIFUN6L-FEFgzWg     0  2015-05-15      0   \n",
       "105848  LDMCrFlGIFUN6L-FEFgzWg     0  2017-02-15      0   \n",
       "105849  LDMCrFlGIFUN6L-FEFgzWg     0  2015-06-16      0   \n",
       "105850  LDMCrFlGIFUN6L-FEFgzWg     0  2017-06-05      0   \n",
       "105851  LDMCrFlGIFUN6L-FEFgzWg     1  2015-07-20      1   \n",
       "105852  LDMCrFlGIFUN6L-FEFgzWg     1  2015-09-28      0   \n",
       "105853  LDMCrFlGIFUN6L-FEFgzWg     0  2017-07-05      0   \n",
       "\n",
       "                     review_id  stars  \\\n",
       "105842  VSpTKm_Z7N9_-6jbbkozmA      2   \n",
       "105843  4gH-5f0ewrH2Vvl0UYtQQA      1   \n",
       "105844  1qBsRv6joCOCZzs8BGKk0w      4   \n",
       "105845  qlnMpBo8_GWhlJE6zR51qA      3   \n",
       "105846  FdsAx-XpgfWzLHUDJWZTzw      3   \n",
       "105847  woYGBjLlsrezUvBKiBwwhg      1   \n",
       "105848  _u6u4NB9XTNPgDOqJUbF7Q      5   \n",
       "105849  ilj0ZswUKjNMjw2kz7cgTg      4   \n",
       "105850  lQQ7DaHdAxtVvZXf2YoTBg      1   \n",
       "105851  gSDvkkVS7C0exFEik8RF8A      4   \n",
       "105852  d-qPTN-jQfUrXQDt0BtPdg      4   \n",
       "105853  4-UYDaFcO-VQ3C1Kr6y38A      1   \n",
       "\n",
       "                                                     text  useful  \\\n",
       "105842  I've been eating chicken at el poll loco since...       0   \n",
       "105843  I'm at training for work and went for a quick ...       0   \n",
       "105844  Newly decorated. Great chicken. Ordering could...       0   \n",
       "105845  Given this location is close to my work I find...       2   \n",
       "105846  Food is good prices are good and service was g...       0   \n",
       "105847  Never again will I return.  The culture of thi...       0   \n",
       "105848  this one is one of my favorite locations . Foo...       0   \n",
       "105849  A great mix between an authentic Mexican taco ...       0   \n",
       "105850  Do not go to this el pollo loco! They rude as ...       0   \n",
       "105851  Quick. Fast. Fresh and always Delicious!\\nThis...       1   \n",
       "105852  Every time I come to this El Pollo Loco it is ...       2   \n",
       "105853  Worst place to come eat.  My fist time here to...       0   \n",
       "\n",
       "                       user_id  \n",
       "105842  yeyeg8Vm4Lxvf4tZqoiKIA  \n",
       "105843  GLGz9sSNHIbguwv90XStYA  \n",
       "105844  rcwQ0ubBNHRGdqjbQQ-Usg  \n",
       "105845  YxqLJwDgcL4OoDB1hN-Ikg  \n",
       "105846  6ouNbGA50B7WUUhZuOy0Cw  \n",
       "105847  i1zH7hGJs_accdfjEzrwUQ  \n",
       "105848  5TRDoYHqVvC81mq_p76HlQ  \n",
       "105849  Pg-sMoiilKCVPs41vf5V_Q  \n",
       "105850  wJ7yczc2Eqw9Fqr4rNBnqw  \n",
       "105851  Wdm3hCNmJwD689wD6-Bb0w  \n",
       "105852  8PPZWuvr3CY2uu0X7Ot-xA  \n",
       "105853  vRJxRdfQ1JJnFtgDhICKcA  "
      ]
     },
     "execution_count": 13,
     "metadata": {},
     "output_type": "execute_result"
    }
   ],
   "source": [
    "review_df[review_df[\"business_id\"]==lv_res_id[0]]"
   ]
  },
  {
   "cell_type": "markdown",
   "metadata": {},
   "source": [
    "### Create a sub set that only contains reviews for the restaurants in Las Vegas"
   ]
  },
  {
   "cell_type": "code",
   "execution_count": 14,
   "metadata": {
    "collapsed": true
   },
   "outputs": [],
   "source": [
    "lv_res_review=review_df[review_df[\"business_id\"].isin(lv_res_id)]"
   ]
  },
  {
   "cell_type": "code",
   "execution_count": 15,
   "metadata": {},
   "outputs": [
    {
     "data": {
      "text/plain": [
       "(849883, 9)"
      ]
     },
     "execution_count": 15,
     "metadata": {},
     "output_type": "execute_result"
    }
   ],
   "source": [
    "lv_res_review.shape"
   ]
  },
  {
   "cell_type": "code",
   "execution_count": 16,
   "metadata": {},
   "outputs": [
    {
     "data": {
      "text/html": [
       "<div>\n",
       "<style>\n",
       "    .dataframe thead tr:only-child th {\n",
       "        text-align: right;\n",
       "    }\n",
       "\n",
       "    .dataframe thead th {\n",
       "        text-align: left;\n",
       "    }\n",
       "\n",
       "    .dataframe tbody tr th {\n",
       "        vertical-align: top;\n",
       "    }\n",
       "</style>\n",
       "<table border=\"1\" class=\"dataframe\">\n",
       "  <thead>\n",
       "    <tr style=\"text-align: right;\">\n",
       "      <th></th>\n",
       "      <th>business_id</th>\n",
       "      <th>cool</th>\n",
       "      <th>date</th>\n",
       "      <th>funny</th>\n",
       "      <th>review_id</th>\n",
       "      <th>stars</th>\n",
       "      <th>text</th>\n",
       "      <th>useful</th>\n",
       "      <th>user_id</th>\n",
       "    </tr>\n",
       "  </thead>\n",
       "  <tbody>\n",
       "    <tr>\n",
       "      <th>482</th>\n",
       "      <td>OQcvO5P3gH0cuJ-bPXwfQQ</td>\n",
       "      <td>0</td>\n",
       "      <td>2017-04-01</td>\n",
       "      <td>0</td>\n",
       "      <td>BLIJFaJZ-_fOcBs16fL_6g</td>\n",
       "      <td>5</td>\n",
       "      <td>Loved, Loved, Loved. It is a simple place, but...</td>\n",
       "      <td>0</td>\n",
       "      <td>jgzD7eBwZrasqy6wUy122w</td>\n",
       "    </tr>\n",
       "    <tr>\n",
       "      <th>483</th>\n",
       "      <td>OQcvO5P3gH0cuJ-bPXwfQQ</td>\n",
       "      <td>0</td>\n",
       "      <td>2016-11-05</td>\n",
       "      <td>0</td>\n",
       "      <td>VuKbGklNbOESJSx76_EjyA</td>\n",
       "      <td>5</td>\n",
       "      <td>Is a small restaurant food is good! Also the o...</td>\n",
       "      <td>0</td>\n",
       "      <td>2v_meK453YAWXz4NjJ9abA</td>\n",
       "    </tr>\n",
       "    <tr>\n",
       "      <th>484</th>\n",
       "      <td>OQcvO5P3gH0cuJ-bPXwfQQ</td>\n",
       "      <td>0</td>\n",
       "      <td>2017-06-01</td>\n",
       "      <td>0</td>\n",
       "      <td>HBaAmcS9zp5rY1qiMuWygA</td>\n",
       "      <td>5</td>\n",
       "      <td>Best Mexican restaurant in Vegas. Meat is supe...</td>\n",
       "      <td>1</td>\n",
       "      <td>cdFWtOgA1PAkNYkiwzUJbQ</td>\n",
       "    </tr>\n",
       "    <tr>\n",
       "      <th>485</th>\n",
       "      <td>OQcvO5P3gH0cuJ-bPXwfQQ</td>\n",
       "      <td>0</td>\n",
       "      <td>2017-07-16</td>\n",
       "      <td>0</td>\n",
       "      <td>41ORR2OPi2CP0FAoiWjwWA</td>\n",
       "      <td>5</td>\n",
       "      <td>I  would've like to take a before picture when...</td>\n",
       "      <td>1</td>\n",
       "      <td>60ENRcuFKNf9oeA2zWROFQ</td>\n",
       "    </tr>\n",
       "    <tr>\n",
       "      <th>486</th>\n",
       "      <td>OQcvO5P3gH0cuJ-bPXwfQQ</td>\n",
       "      <td>67</td>\n",
       "      <td>2017-06-20</td>\n",
       "      <td>42</td>\n",
       "      <td>Oxz26pqpIb7dDVeuUzNZlg</td>\n",
       "      <td>4</td>\n",
       "      <td>We had originally planned on eating at the Sin...</td>\n",
       "      <td>66</td>\n",
       "      <td>Fv0e9RIV9jw5TX3ctA1WbA</td>\n",
       "    </tr>\n",
       "  </tbody>\n",
       "</table>\n",
       "</div>"
      ],
      "text/plain": [
       "                business_id  cool        date  funny               review_id  \\\n",
       "482  OQcvO5P3gH0cuJ-bPXwfQQ     0  2017-04-01      0  BLIJFaJZ-_fOcBs16fL_6g   \n",
       "483  OQcvO5P3gH0cuJ-bPXwfQQ     0  2016-11-05      0  VuKbGklNbOESJSx76_EjyA   \n",
       "484  OQcvO5P3gH0cuJ-bPXwfQQ     0  2017-06-01      0  HBaAmcS9zp5rY1qiMuWygA   \n",
       "485  OQcvO5P3gH0cuJ-bPXwfQQ     0  2017-07-16      0  41ORR2OPi2CP0FAoiWjwWA   \n",
       "486  OQcvO5P3gH0cuJ-bPXwfQQ    67  2017-06-20     42  Oxz26pqpIb7dDVeuUzNZlg   \n",
       "\n",
       "     stars                                               text  useful  \\\n",
       "482      5  Loved, Loved, Loved. It is a simple place, but...       0   \n",
       "483      5  Is a small restaurant food is good! Also the o...       0   \n",
       "484      5  Best Mexican restaurant in Vegas. Meat is supe...       1   \n",
       "485      5  I  would've like to take a before picture when...       1   \n",
       "486      4  We had originally planned on eating at the Sin...      66   \n",
       "\n",
       "                    user_id  \n",
       "482  jgzD7eBwZrasqy6wUy122w  \n",
       "483  2v_meK453YAWXz4NjJ9abA  \n",
       "484  cdFWtOgA1PAkNYkiwzUJbQ  \n",
       "485  60ENRcuFKNf9oeA2zWROFQ  \n",
       "486  Fv0e9RIV9jw5TX3ctA1WbA  "
      ]
     },
     "execution_count": 16,
     "metadata": {},
     "output_type": "execute_result"
    }
   ],
   "source": [
    "lv_res_review.head()"
   ]
  },
  {
   "cell_type": "code",
   "execution_count": 17,
   "metadata": {
    "collapsed": true
   },
   "outputs": [],
   "source": [
    "lv_res_review=lv_res_review.set_index('business_id')"
   ]
  },
  {
   "cell_type": "code",
   "execution_count": null,
   "metadata": {
    "collapsed": true
   },
   "outputs": [],
   "source": []
  },
  {
   "cell_type": "markdown",
   "metadata": {},
   "source": [
    "## 1.2 User Data"
   ]
  },
  {
   "cell_type": "code",
   "execution_count": 18,
   "metadata": {
    "collapsed": true
   },
   "outputs": [],
   "source": [
    "userdata = load_data('user.json')"
   ]
  },
  {
   "cell_type": "code",
   "execution_count": 20,
   "metadata": {},
   "outputs": [
    {
     "data": {
      "text/plain": [
       "1183362"
      ]
     },
     "execution_count": 20,
     "metadata": {},
     "output_type": "execute_result"
    }
   ],
   "source": [
    "len(userdata)"
   ]
  },
  {
   "cell_type": "code",
   "execution_count": 19,
   "metadata": {
    "collapsed": true
   },
   "outputs": [],
   "source": [
    "user_df = pd.DataFrame.from_dict(userdata)"
   ]
  },
  {
   "cell_type": "code",
   "execution_count": 22,
   "metadata": {
    "collapsed": true
   },
   "outputs": [],
   "source": [
    "pd.set_option('display.max_columns', None)"
   ]
  },
  {
   "cell_type": "code",
   "execution_count": 20,
   "metadata": {},
   "outputs": [
    {
     "data": {
      "text/html": [
       "<div>\n",
       "<style>\n",
       "    .dataframe thead tr:only-child th {\n",
       "        text-align: right;\n",
       "    }\n",
       "\n",
       "    .dataframe thead th {\n",
       "        text-align: left;\n",
       "    }\n",
       "\n",
       "    .dataframe tbody tr th {\n",
       "        vertical-align: top;\n",
       "    }\n",
       "</style>\n",
       "<table border=\"1\" class=\"dataframe\">\n",
       "  <thead>\n",
       "    <tr style=\"text-align: right;\">\n",
       "      <th></th>\n",
       "      <th>average_stars</th>\n",
       "      <th>compliment_cool</th>\n",
       "      <th>compliment_cute</th>\n",
       "      <th>compliment_funny</th>\n",
       "      <th>compliment_hot</th>\n",
       "      <th>compliment_list</th>\n",
       "      <th>compliment_more</th>\n",
       "      <th>compliment_note</th>\n",
       "      <th>compliment_photos</th>\n",
       "      <th>compliment_plain</th>\n",
       "      <th>compliment_profile</th>\n",
       "      <th>compliment_writer</th>\n",
       "      <th>cool</th>\n",
       "      <th>elite</th>\n",
       "      <th>fans</th>\n",
       "      <th>friends</th>\n",
       "      <th>funny</th>\n",
       "      <th>name</th>\n",
       "      <th>review_count</th>\n",
       "      <th>useful</th>\n",
       "      <th>user_id</th>\n",
       "      <th>yelping_since</th>\n",
       "    </tr>\n",
       "  </thead>\n",
       "  <tbody>\n",
       "    <tr>\n",
       "      <th>0</th>\n",
       "      <td>3.80</td>\n",
       "      <td>5174</td>\n",
       "      <td>284</td>\n",
       "      <td>5174</td>\n",
       "      <td>5175</td>\n",
       "      <td>78</td>\n",
       "      <td>299</td>\n",
       "      <td>1435</td>\n",
       "      <td>7829</td>\n",
       "      <td>7397</td>\n",
       "      <td>569</td>\n",
       "      <td>1834</td>\n",
       "      <td>16856</td>\n",
       "      <td>[2014, 2016, 2013, 2011, 2012, 2015, 2010, 2017]</td>\n",
       "      <td>209</td>\n",
       "      <td>[M19NwFwAXKRZzt8koF11hQ, QRcMZ8pJJBBZaKubHOoMD...</td>\n",
       "      <td>16605</td>\n",
       "      <td>Cin</td>\n",
       "      <td>272</td>\n",
       "      <td>17019</td>\n",
       "      <td>lsSiIjAKVl-QRxKjRErBeg</td>\n",
       "      <td>2010-07-13</td>\n",
       "    </tr>\n",
       "    <tr>\n",
       "      <th>1</th>\n",
       "      <td>3.94</td>\n",
       "      <td>1556</td>\n",
       "      <td>211</td>\n",
       "      <td>1556</td>\n",
       "      <td>1285</td>\n",
       "      <td>101</td>\n",
       "      <td>134</td>\n",
       "      <td>1295</td>\n",
       "      <td>162</td>\n",
       "      <td>2134</td>\n",
       "      <td>74</td>\n",
       "      <td>402</td>\n",
       "      <td>40110</td>\n",
       "      <td>[2014, 2017, 2011, 2012, 2015, 2009, 2013, 200...</td>\n",
       "      <td>835</td>\n",
       "      <td>[eoSSJzdprj3jxXyi94vDXg, QF0urZa-0bxga17ZeY-9l...</td>\n",
       "      <td>10882</td>\n",
       "      <td>Andrea</td>\n",
       "      <td>2559</td>\n",
       "      <td>83681</td>\n",
       "      <td>om5ZiponkpRqUNa3pVPiRg</td>\n",
       "      <td>2006-01-18</td>\n",
       "    </tr>\n",
       "    <tr>\n",
       "      <th>2</th>\n",
       "      <td>4.72</td>\n",
       "      <td>15</td>\n",
       "      <td>1</td>\n",
       "      <td>15</td>\n",
       "      <td>5</td>\n",
       "      <td>0</td>\n",
       "      <td>1</td>\n",
       "      <td>11</td>\n",
       "      <td>8</td>\n",
       "      <td>20</td>\n",
       "      <td>0</td>\n",
       "      <td>1</td>\n",
       "      <td>55</td>\n",
       "      <td>[]</td>\n",
       "      <td>17</td>\n",
       "      <td>[Oa84FFGBw1axX8O6uDkmqg, SRcWERSl4rhm-Bz9zN_J8...</td>\n",
       "      <td>4</td>\n",
       "      <td>Gabe</td>\n",
       "      <td>277</td>\n",
       "      <td>45</td>\n",
       "      <td>-lGwMGHMC_XihFJNKCJNRg</td>\n",
       "      <td>2014-10-31</td>\n",
       "    </tr>\n",
       "    <tr>\n",
       "      <th>3</th>\n",
       "      <td>3.76</td>\n",
       "      <td>9</td>\n",
       "      <td>0</td>\n",
       "      <td>9</td>\n",
       "      <td>1</td>\n",
       "      <td>0</td>\n",
       "      <td>1</td>\n",
       "      <td>4</td>\n",
       "      <td>1</td>\n",
       "      <td>11</td>\n",
       "      <td>0</td>\n",
       "      <td>3</td>\n",
       "      <td>4</td>\n",
       "      <td>[2016, 2017]</td>\n",
       "      <td>11</td>\n",
       "      <td>[96DJovjKAtExnyBZRfniPQ, Djczq-bRn761U4FW77NUt...</td>\n",
       "      <td>4</td>\n",
       "      <td>Leah</td>\n",
       "      <td>436</td>\n",
       "      <td>15</td>\n",
       "      <td>D-ydMTPGWXTVm4_jjp0k9g</td>\n",
       "      <td>2013-04-01</td>\n",
       "    </tr>\n",
       "    <tr>\n",
       "      <th>4</th>\n",
       "      <td>4.23</td>\n",
       "      <td>276</td>\n",
       "      <td>0</td>\n",
       "      <td>276</td>\n",
       "      <td>59</td>\n",
       "      <td>0</td>\n",
       "      <td>8</td>\n",
       "      <td>51</td>\n",
       "      <td>169</td>\n",
       "      <td>386</td>\n",
       "      <td>3</td>\n",
       "      <td>29</td>\n",
       "      <td>6006</td>\n",
       "      <td>[2017, 2016]</td>\n",
       "      <td>49</td>\n",
       "      <td>[iN0A6QIrEFYoSGHFaknh8Q, B2HDoWNIzLlon0IhS1cmD...</td>\n",
       "      <td>360</td>\n",
       "      <td>Juan</td>\n",
       "      <td>921</td>\n",
       "      <td>9152</td>\n",
       "      <td>PcvbBOCOcs6_suRDH7TSTg</td>\n",
       "      <td>2012-08-16</td>\n",
       "    </tr>\n",
       "  </tbody>\n",
       "</table>\n",
       "</div>"
      ],
      "text/plain": [
       "   average_stars  compliment_cool  compliment_cute  compliment_funny  \\\n",
       "0           3.80             5174              284              5174   \n",
       "1           3.94             1556              211              1556   \n",
       "2           4.72               15                1                15   \n",
       "3           3.76                9                0                 9   \n",
       "4           4.23              276                0               276   \n",
       "\n",
       "   compliment_hot  compliment_list  compliment_more  compliment_note  \\\n",
       "0            5175               78              299             1435   \n",
       "1            1285              101              134             1295   \n",
       "2               5                0                1               11   \n",
       "3               1                0                1                4   \n",
       "4              59                0                8               51   \n",
       "\n",
       "   compliment_photos  compliment_plain  compliment_profile  compliment_writer  \\\n",
       "0               7829              7397                 569               1834   \n",
       "1                162              2134                  74                402   \n",
       "2                  8                20                   0                  1   \n",
       "3                  1                11                   0                  3   \n",
       "4                169               386                   3                 29   \n",
       "\n",
       "    cool                                              elite  fans  \\\n",
       "0  16856   [2014, 2016, 2013, 2011, 2012, 2015, 2010, 2017]   209   \n",
       "1  40110  [2014, 2017, 2011, 2012, 2015, 2009, 2013, 200...   835   \n",
       "2     55                                                 []    17   \n",
       "3      4                                       [2016, 2017]    11   \n",
       "4   6006                                       [2017, 2016]    49   \n",
       "\n",
       "                                             friends  funny    name  \\\n",
       "0  [M19NwFwAXKRZzt8koF11hQ, QRcMZ8pJJBBZaKubHOoMD...  16605     Cin   \n",
       "1  [eoSSJzdprj3jxXyi94vDXg, QF0urZa-0bxga17ZeY-9l...  10882  Andrea   \n",
       "2  [Oa84FFGBw1axX8O6uDkmqg, SRcWERSl4rhm-Bz9zN_J8...      4    Gabe   \n",
       "3  [96DJovjKAtExnyBZRfniPQ, Djczq-bRn761U4FW77NUt...      4    Leah   \n",
       "4  [iN0A6QIrEFYoSGHFaknh8Q, B2HDoWNIzLlon0IhS1cmD...    360    Juan   \n",
       "\n",
       "   review_count  useful                 user_id yelping_since  \n",
       "0           272   17019  lsSiIjAKVl-QRxKjRErBeg    2010-07-13  \n",
       "1          2559   83681  om5ZiponkpRqUNa3pVPiRg    2006-01-18  \n",
       "2           277      45  -lGwMGHMC_XihFJNKCJNRg    2014-10-31  \n",
       "3           436      15  D-ydMTPGWXTVm4_jjp0k9g    2013-04-01  \n",
       "4           921    9152  PcvbBOCOcs6_suRDH7TSTg    2012-08-16  "
      ]
     },
     "execution_count": 20,
     "metadata": {},
     "output_type": "execute_result"
    }
   ],
   "source": [
    "user_df.head()"
   ]
  },
  {
   "cell_type": "code",
   "execution_count": null,
   "metadata": {
    "collapsed": true
   },
   "outputs": [],
   "source": []
  },
  {
   "cell_type": "markdown",
   "metadata": {},
   "source": [
    "### Create a sub set that only contains users who have reviewed the restaurant in Las Vegas"
   ]
  },
  {
   "cell_type": "code",
   "execution_count": 21,
   "metadata": {
    "collapsed": true
   },
   "outputs": [],
   "source": [
    "lv_res_user=user_df[user_df[\"user_id\"].isin(lv_res_review['user_id'])]"
   ]
  },
  {
   "cell_type": "code",
   "execution_count": 22,
   "metadata": {},
   "outputs": [
    {
     "data": {
      "text/plain": [
       "(307484, 22)"
      ]
     },
     "execution_count": 22,
     "metadata": {},
     "output_type": "execute_result"
    }
   ],
   "source": [
    "lv_res_user.shape"
   ]
  },
  {
   "cell_type": "code",
   "execution_count": null,
   "metadata": {
    "collapsed": true
   },
   "outputs": [],
   "source": []
  },
  {
   "cell_type": "code",
   "execution_count": 23,
   "metadata": {},
   "outputs": [
    {
     "data": {
      "text/html": [
       "<div>\n",
       "<style>\n",
       "    .dataframe thead tr:only-child th {\n",
       "        text-align: right;\n",
       "    }\n",
       "\n",
       "    .dataframe thead th {\n",
       "        text-align: left;\n",
       "    }\n",
       "\n",
       "    .dataframe tbody tr th {\n",
       "        vertical-align: top;\n",
       "    }\n",
       "</style>\n",
       "<table border=\"1\" class=\"dataframe\">\n",
       "  <thead>\n",
       "    <tr style=\"text-align: right;\">\n",
       "      <th></th>\n",
       "      <th>average_stars</th>\n",
       "      <th>compliment_cool</th>\n",
       "      <th>compliment_cute</th>\n",
       "      <th>compliment_funny</th>\n",
       "      <th>compliment_hot</th>\n",
       "      <th>compliment_list</th>\n",
       "      <th>compliment_more</th>\n",
       "      <th>compliment_note</th>\n",
       "      <th>compliment_photos</th>\n",
       "      <th>compliment_plain</th>\n",
       "      <th>compliment_profile</th>\n",
       "      <th>compliment_writer</th>\n",
       "      <th>cool</th>\n",
       "      <th>elite</th>\n",
       "      <th>fans</th>\n",
       "      <th>friends</th>\n",
       "      <th>funny</th>\n",
       "      <th>name</th>\n",
       "      <th>review_count</th>\n",
       "      <th>useful</th>\n",
       "      <th>user_id</th>\n",
       "      <th>yelping_since</th>\n",
       "    </tr>\n",
       "  </thead>\n",
       "  <tbody>\n",
       "    <tr>\n",
       "      <th>0</th>\n",
       "      <td>3.80</td>\n",
       "      <td>5174</td>\n",
       "      <td>284</td>\n",
       "      <td>5174</td>\n",
       "      <td>5175</td>\n",
       "      <td>78</td>\n",
       "      <td>299</td>\n",
       "      <td>1435</td>\n",
       "      <td>7829</td>\n",
       "      <td>7397</td>\n",
       "      <td>569</td>\n",
       "      <td>1834</td>\n",
       "      <td>16856</td>\n",
       "      <td>[2014, 2016, 2013, 2011, 2012, 2015, 2010, 2017]</td>\n",
       "      <td>209</td>\n",
       "      <td>[M19NwFwAXKRZzt8koF11hQ, QRcMZ8pJJBBZaKubHOoMD...</td>\n",
       "      <td>16605</td>\n",
       "      <td>Cin</td>\n",
       "      <td>272</td>\n",
       "      <td>17019</td>\n",
       "      <td>lsSiIjAKVl-QRxKjRErBeg</td>\n",
       "      <td>2010-07-13</td>\n",
       "    </tr>\n",
       "    <tr>\n",
       "      <th>1</th>\n",
       "      <td>3.94</td>\n",
       "      <td>1556</td>\n",
       "      <td>211</td>\n",
       "      <td>1556</td>\n",
       "      <td>1285</td>\n",
       "      <td>101</td>\n",
       "      <td>134</td>\n",
       "      <td>1295</td>\n",
       "      <td>162</td>\n",
       "      <td>2134</td>\n",
       "      <td>74</td>\n",
       "      <td>402</td>\n",
       "      <td>40110</td>\n",
       "      <td>[2014, 2017, 2011, 2012, 2015, 2009, 2013, 200...</td>\n",
       "      <td>835</td>\n",
       "      <td>[eoSSJzdprj3jxXyi94vDXg, QF0urZa-0bxga17ZeY-9l...</td>\n",
       "      <td>10882</td>\n",
       "      <td>Andrea</td>\n",
       "      <td>2559</td>\n",
       "      <td>83681</td>\n",
       "      <td>om5ZiponkpRqUNa3pVPiRg</td>\n",
       "      <td>2006-01-18</td>\n",
       "    </tr>\n",
       "    <tr>\n",
       "      <th>2</th>\n",
       "      <td>4.72</td>\n",
       "      <td>15</td>\n",
       "      <td>1</td>\n",
       "      <td>15</td>\n",
       "      <td>5</td>\n",
       "      <td>0</td>\n",
       "      <td>1</td>\n",
       "      <td>11</td>\n",
       "      <td>8</td>\n",
       "      <td>20</td>\n",
       "      <td>0</td>\n",
       "      <td>1</td>\n",
       "      <td>55</td>\n",
       "      <td>[]</td>\n",
       "      <td>17</td>\n",
       "      <td>[Oa84FFGBw1axX8O6uDkmqg, SRcWERSl4rhm-Bz9zN_J8...</td>\n",
       "      <td>4</td>\n",
       "      <td>Gabe</td>\n",
       "      <td>277</td>\n",
       "      <td>45</td>\n",
       "      <td>-lGwMGHMC_XihFJNKCJNRg</td>\n",
       "      <td>2014-10-31</td>\n",
       "    </tr>\n",
       "    <tr>\n",
       "      <th>4</th>\n",
       "      <td>4.23</td>\n",
       "      <td>276</td>\n",
       "      <td>0</td>\n",
       "      <td>276</td>\n",
       "      <td>59</td>\n",
       "      <td>0</td>\n",
       "      <td>8</td>\n",
       "      <td>51</td>\n",
       "      <td>169</td>\n",
       "      <td>386</td>\n",
       "      <td>3</td>\n",
       "      <td>29</td>\n",
       "      <td>6006</td>\n",
       "      <td>[2017, 2016]</td>\n",
       "      <td>49</td>\n",
       "      <td>[iN0A6QIrEFYoSGHFaknh8Q, B2HDoWNIzLlon0IhS1cmD...</td>\n",
       "      <td>360</td>\n",
       "      <td>Juan</td>\n",
       "      <td>921</td>\n",
       "      <td>9152</td>\n",
       "      <td>PcvbBOCOcs6_suRDH7TSTg</td>\n",
       "      <td>2012-08-16</td>\n",
       "    </tr>\n",
       "    <tr>\n",
       "      <th>6</th>\n",
       "      <td>4.40</td>\n",
       "      <td>9</td>\n",
       "      <td>0</td>\n",
       "      <td>9</td>\n",
       "      <td>8</td>\n",
       "      <td>0</td>\n",
       "      <td>2</td>\n",
       "      <td>1</td>\n",
       "      <td>1</td>\n",
       "      <td>4</td>\n",
       "      <td>0</td>\n",
       "      <td>1</td>\n",
       "      <td>0</td>\n",
       "      <td>[2017, 2016]</td>\n",
       "      <td>17</td>\n",
       "      <td>[ZWD8UH1T7QXQr0Eq-mcWYg, ObSXluQeEYiOP9l9muFlG...</td>\n",
       "      <td>0</td>\n",
       "      <td>Victoria</td>\n",
       "      <td>91</td>\n",
       "      <td>0</td>\n",
       "      <td>N2arP_u4sMGLgOZhA6ZFoQ</td>\n",
       "      <td>2013-12-20</td>\n",
       "    </tr>\n",
       "  </tbody>\n",
       "</table>\n",
       "</div>"
      ],
      "text/plain": [
       "   average_stars  compliment_cool  compliment_cute  compliment_funny  \\\n",
       "0           3.80             5174              284              5174   \n",
       "1           3.94             1556              211              1556   \n",
       "2           4.72               15                1                15   \n",
       "4           4.23              276                0               276   \n",
       "6           4.40                9                0                 9   \n",
       "\n",
       "   compliment_hot  compliment_list  compliment_more  compliment_note  \\\n",
       "0            5175               78              299             1435   \n",
       "1            1285              101              134             1295   \n",
       "2               5                0                1               11   \n",
       "4              59                0                8               51   \n",
       "6               8                0                2                1   \n",
       "\n",
       "   compliment_photos  compliment_plain  compliment_profile  compliment_writer  \\\n",
       "0               7829              7397                 569               1834   \n",
       "1                162              2134                  74                402   \n",
       "2                  8                20                   0                  1   \n",
       "4                169               386                   3                 29   \n",
       "6                  1                 4                   0                  1   \n",
       "\n",
       "    cool                                              elite  fans  \\\n",
       "0  16856   [2014, 2016, 2013, 2011, 2012, 2015, 2010, 2017]   209   \n",
       "1  40110  [2014, 2017, 2011, 2012, 2015, 2009, 2013, 200...   835   \n",
       "2     55                                                 []    17   \n",
       "4   6006                                       [2017, 2016]    49   \n",
       "6      0                                       [2017, 2016]    17   \n",
       "\n",
       "                                             friends  funny      name  \\\n",
       "0  [M19NwFwAXKRZzt8koF11hQ, QRcMZ8pJJBBZaKubHOoMD...  16605       Cin   \n",
       "1  [eoSSJzdprj3jxXyi94vDXg, QF0urZa-0bxga17ZeY-9l...  10882    Andrea   \n",
       "2  [Oa84FFGBw1axX8O6uDkmqg, SRcWERSl4rhm-Bz9zN_J8...      4      Gabe   \n",
       "4  [iN0A6QIrEFYoSGHFaknh8Q, B2HDoWNIzLlon0IhS1cmD...    360      Juan   \n",
       "6  [ZWD8UH1T7QXQr0Eq-mcWYg, ObSXluQeEYiOP9l9muFlG...      0  Victoria   \n",
       "\n",
       "   review_count  useful                 user_id yelping_since  \n",
       "0           272   17019  lsSiIjAKVl-QRxKjRErBeg    2010-07-13  \n",
       "1          2559   83681  om5ZiponkpRqUNa3pVPiRg    2006-01-18  \n",
       "2           277      45  -lGwMGHMC_XihFJNKCJNRg    2014-10-31  \n",
       "4           921    9152  PcvbBOCOcs6_suRDH7TSTg    2012-08-16  \n",
       "6            91       0  N2arP_u4sMGLgOZhA6ZFoQ    2013-12-20  "
      ]
     },
     "execution_count": 23,
     "metadata": {},
     "output_type": "execute_result"
    }
   ],
   "source": [
    "lv_res_user.head()"
   ]
  },
  {
   "cell_type": "code",
   "execution_count": null,
   "metadata": {
    "collapsed": true
   },
   "outputs": [],
   "source": []
  },
  {
   "cell_type": "code",
   "execution_count": null,
   "metadata": {
    "collapsed": true
   },
   "outputs": [],
   "source": []
  },
  {
   "cell_type": "code",
   "execution_count": null,
   "metadata": {
    "collapsed": true
   },
   "outputs": [],
   "source": []
  },
  {
   "cell_type": "code",
   "execution_count": null,
   "metadata": {
    "collapsed": true
   },
   "outputs": [],
   "source": []
  },
  {
   "cell_type": "code",
   "execution_count": null,
   "metadata": {
    "collapsed": true
   },
   "outputs": [],
   "source": []
  },
  {
   "cell_type": "code",
   "execution_count": null,
   "metadata": {
    "collapsed": true
   },
   "outputs": [],
   "source": []
  },
  {
   "cell_type": "code",
   "execution_count": 27,
   "metadata": {
    "collapsed": true
   },
   "outputs": [],
   "source": [
    "def createBoxPlot(data,colName,byColName):\n",
    "    boxprops = dict(linestyle='-', linewidth=4, color='red')\n",
    "    medianprops = dict(linestyle='-', linewidth=4, color='red')\n",
    "    ax=data.boxplot(column=colName,by= byColName,  figsize= (8,8),\n",
    "                            showmeans=True,  boxprops=boxprops,medianprops=medianprops)\n",
    "    ax.set_title(byColName + \" vs \" + colName)   "
   ]
  },
  {
   "cell_type": "markdown",
   "metadata": {},
   "source": [
    "# 2. Explore the data"
   ]
  },
  {
   "cell_type": "code",
   "execution_count": 28,
   "metadata": {},
   "outputs": [
    {
     "data": {
      "text/html": [
       "<div>\n",
       "<style>\n",
       "    .dataframe thead tr:only-child th {\n",
       "        text-align: right;\n",
       "    }\n",
       "\n",
       "    .dataframe thead th {\n",
       "        text-align: left;\n",
       "    }\n",
       "\n",
       "    .dataframe tbody tr th {\n",
       "        vertical-align: top;\n",
       "    }\n",
       "</style>\n",
       "<table border=\"1\" class=\"dataframe\">\n",
       "  <thead>\n",
       "    <tr style=\"text-align: right;\">\n",
       "      <th></th>\n",
       "      <th>business_id</th>\n",
       "      <th>cool</th>\n",
       "      <th>date</th>\n",
       "      <th>funny</th>\n",
       "      <th>review_id</th>\n",
       "      <th>stars</th>\n",
       "      <th>text</th>\n",
       "      <th>useful</th>\n",
       "      <th>user_id</th>\n",
       "    </tr>\n",
       "  </thead>\n",
       "  <tbody>\n",
       "    <tr>\n",
       "      <th>482</th>\n",
       "      <td>OQcvO5P3gH0cuJ-bPXwfQQ</td>\n",
       "      <td>0</td>\n",
       "      <td>2017-04-01</td>\n",
       "      <td>0</td>\n",
       "      <td>BLIJFaJZ-_fOcBs16fL_6g</td>\n",
       "      <td>5</td>\n",
       "      <td>Loved, Loved, Loved. It is a simple place, but...</td>\n",
       "      <td>0</td>\n",
       "      <td>jgzD7eBwZrasqy6wUy122w</td>\n",
       "    </tr>\n",
       "    <tr>\n",
       "      <th>483</th>\n",
       "      <td>OQcvO5P3gH0cuJ-bPXwfQQ</td>\n",
       "      <td>0</td>\n",
       "      <td>2016-11-05</td>\n",
       "      <td>0</td>\n",
       "      <td>VuKbGklNbOESJSx76_EjyA</td>\n",
       "      <td>5</td>\n",
       "      <td>Is a small restaurant food is good! Also the o...</td>\n",
       "      <td>0</td>\n",
       "      <td>2v_meK453YAWXz4NjJ9abA</td>\n",
       "    </tr>\n",
       "    <tr>\n",
       "      <th>484</th>\n",
       "      <td>OQcvO5P3gH0cuJ-bPXwfQQ</td>\n",
       "      <td>0</td>\n",
       "      <td>2017-06-01</td>\n",
       "      <td>0</td>\n",
       "      <td>HBaAmcS9zp5rY1qiMuWygA</td>\n",
       "      <td>5</td>\n",
       "      <td>Best Mexican restaurant in Vegas. Meat is supe...</td>\n",
       "      <td>1</td>\n",
       "      <td>cdFWtOgA1PAkNYkiwzUJbQ</td>\n",
       "    </tr>\n",
       "    <tr>\n",
       "      <th>485</th>\n",
       "      <td>OQcvO5P3gH0cuJ-bPXwfQQ</td>\n",
       "      <td>0</td>\n",
       "      <td>2017-07-16</td>\n",
       "      <td>0</td>\n",
       "      <td>41ORR2OPi2CP0FAoiWjwWA</td>\n",
       "      <td>5</td>\n",
       "      <td>I  would've like to take a before picture when...</td>\n",
       "      <td>1</td>\n",
       "      <td>60ENRcuFKNf9oeA2zWROFQ</td>\n",
       "    </tr>\n",
       "    <tr>\n",
       "      <th>486</th>\n",
       "      <td>OQcvO5P3gH0cuJ-bPXwfQQ</td>\n",
       "      <td>67</td>\n",
       "      <td>2017-06-20</td>\n",
       "      <td>42</td>\n",
       "      <td>Oxz26pqpIb7dDVeuUzNZlg</td>\n",
       "      <td>4</td>\n",
       "      <td>We had originally planned on eating at the Sin...</td>\n",
       "      <td>66</td>\n",
       "      <td>Fv0e9RIV9jw5TX3ctA1WbA</td>\n",
       "    </tr>\n",
       "  </tbody>\n",
       "</table>\n",
       "</div>"
      ],
      "text/plain": [
       "                business_id  cool        date  funny               review_id  \\\n",
       "482  OQcvO5P3gH0cuJ-bPXwfQQ     0  2017-04-01      0  BLIJFaJZ-_fOcBs16fL_6g   \n",
       "483  OQcvO5P3gH0cuJ-bPXwfQQ     0  2016-11-05      0  VuKbGklNbOESJSx76_EjyA   \n",
       "484  OQcvO5P3gH0cuJ-bPXwfQQ     0  2017-06-01      0  HBaAmcS9zp5rY1qiMuWygA   \n",
       "485  OQcvO5P3gH0cuJ-bPXwfQQ     0  2017-07-16      0  41ORR2OPi2CP0FAoiWjwWA   \n",
       "486  OQcvO5P3gH0cuJ-bPXwfQQ    67  2017-06-20     42  Oxz26pqpIb7dDVeuUzNZlg   \n",
       "\n",
       "     stars                                               text  useful  \\\n",
       "482      5  Loved, Loved, Loved. It is a simple place, but...       0   \n",
       "483      5  Is a small restaurant food is good! Also the o...       0   \n",
       "484      5  Best Mexican restaurant in Vegas. Meat is supe...       1   \n",
       "485      5  I  would've like to take a before picture when...       1   \n",
       "486      4  We had originally planned on eating at the Sin...      66   \n",
       "\n",
       "                    user_id  \n",
       "482  jgzD7eBwZrasqy6wUy122w  \n",
       "483  2v_meK453YAWXz4NjJ9abA  \n",
       "484  cdFWtOgA1PAkNYkiwzUJbQ  \n",
       "485  60ENRcuFKNf9oeA2zWROFQ  \n",
       "486  Fv0e9RIV9jw5TX3ctA1WbA  "
      ]
     },
     "execution_count": 28,
     "metadata": {},
     "output_type": "execute_result"
    }
   ],
   "source": [
    "lv_res_review.head()"
   ]
  },
  {
   "cell_type": "code",
   "execution_count": null,
   "metadata": {
    "collapsed": true
   },
   "outputs": [],
   "source": []
  },
  {
   "cell_type": "markdown",
   "metadata": {},
   "source": [
    "## 2.1 Cool vs Ratings"
   ]
  },
  {
   "cell_type": "code",
   "execution_count": 29,
   "metadata": {},
   "outputs": [
    {
     "data": {
      "text/plain": [
       "count    849883.000000\n",
       "mean          0.639998\n",
       "std           2.368975\n",
       "min           0.000000\n",
       "25%           0.000000\n",
       "50%           0.000000\n",
       "75%           1.000000\n",
       "max         156.000000\n",
       "Name: cool, dtype: float64"
      ]
     },
     "execution_count": 29,
     "metadata": {},
     "output_type": "execute_result"
    }
   ],
   "source": [
    "lv_res_review['cool'].describe()"
   ]
  },
  {
   "cell_type": "code",
   "execution_count": 30,
   "metadata": {
    "collapsed": true
   },
   "outputs": [],
   "source": [
    "pd.set_option('display.max_rows', None)"
   ]
  },
  {
   "cell_type": "code",
   "execution_count": 31,
   "metadata": {},
   "outputs": [
    {
     "data": {
      "text/plain": [
       "0      627244\n",
       "1      132340\n",
       "2       41100\n",
       "3       16837\n",
       "4        8889\n",
       "5        5494\n",
       "6        3858\n",
       "7        2691\n",
       "8        2088\n",
       "9        1568\n",
       "10       1248\n",
       "11        959\n",
       "12        781\n",
       "13        593\n",
       "14        509\n",
       "15        406\n",
       "16        365\n",
       "17        306\n",
       "18        252\n",
       "19        215\n",
       "20        197\n",
       "21        165\n",
       "23        153\n",
       "22        141\n",
       "25        132\n",
       "24        120\n",
       "27         97\n",
       "26         93\n",
       "28         71\n",
       "29         64\n",
       "30         61\n",
       "33         61\n",
       "34         56\n",
       "32         55\n",
       "35         53\n",
       "36         50\n",
       "39         48\n",
       "31         48\n",
       "40         30\n",
       "43         29\n",
       "37         28\n",
       "41         28\n",
       "42         28\n",
       "38         26\n",
       "48         21\n",
       "44         20\n",
       "45         18\n",
       "49         14\n",
       "52         13\n",
       "53         12\n",
       "47         12\n",
       "51         11\n",
       "59          8\n",
       "46          8\n",
       "54          8\n",
       "57          8\n",
       "62          8\n",
       "56          7\n",
       "68          7\n",
       "50          7\n",
       "55          6\n",
       "63          6\n",
       "60          5\n",
       "61          5\n",
       "66          4\n",
       "75          4\n",
       "67          4\n",
       "89          4\n",
       "64          4\n",
       "65          3\n",
       "74          3\n",
       "92          3\n",
       "58          3\n",
       "95          3\n",
       "77          3\n",
       "78          3\n",
       "72          3\n",
       "71          3\n",
       "128         2\n",
       "107         2\n",
       "105         2\n",
       "104         2\n",
       "102         2\n",
       "98          2\n",
       "97          2\n",
       "90          2\n",
       "94          2\n",
       "122         2\n",
       "123         2\n",
       "87          2\n",
       "86          2\n",
       "69          2\n",
       "70          2\n",
       "73          2\n",
       "88          2\n",
       "91          1\n",
       "115         1\n",
       "144         1\n",
       "138         1\n",
       "135         1\n",
       "152         1\n",
       "121         1\n",
       "118         1\n",
       "117         1\n",
       "108         1\n",
       "109         1\n",
       "79          1\n",
       "81          1\n",
       "103         1\n",
       "82          1\n",
       "100         1\n",
       "99          1\n",
       "83          1\n",
       "84          1\n",
       "85          1\n",
       "156         1\n",
       "Name: cool, dtype: int64"
      ]
     },
     "execution_count": 31,
     "metadata": {},
     "output_type": "execute_result"
    }
   ],
   "source": [
    "lv_res_review['cool'].value_counts()"
   ]
  },
  {
   "cell_type": "code",
   "execution_count": 32,
   "metadata": {},
   "outputs": [
    {
     "data": {
      "text/plain": [
       "(0, 14)"
      ]
     },
     "execution_count": 32,
     "metadata": {},
     "output_type": "execute_result"
    },
    {
     "data": {
      "image/png": "[encoded data removed]",
      "text/plain": [
       "<matplotlib.figure.Figure at 0x24b605d2f60>"
      ]
     },
     "metadata": {},
     "output_type": "display_data"
    }
   ],
   "source": [
    "lv_res_review['cool'].plot.hist(bins=100, figsize=(10, 10)).set_xlim((0,14))"
   ]
  },
  {
   "cell_type": "code",
   "execution_count": 34,
   "metadata": {
    "collapsed": true
   },
   "outputs": [],
   "source": [
    "bins=[0,1,10,25,160]\n",
    "labels=[\"cool1\",\"cool10\",\"coll20\",\"cool25+\"]"
   ]
  },
  {
   "cell_type": "code",
   "execution_count": 35,
   "metadata": {
    "collapsed": true
   },
   "outputs": [],
   "source": [
    "lv_res_review['cool_bin']= pd.cut(lv_res_review['cool'], bins, labels=labels)"
   ]
  },
  {
   "cell_type": "code",
   "execution_count": 36,
   "metadata": {},
   "outputs": [
    {
     "data": {
      "text/plain": [
       "<matplotlib.axes._subplots.AxesSubplot at 0x24b60fb0f28>"
      ]
     },
     "execution_count": 36,
     "metadata": {},
     "output_type": "execute_result"
    },
    {
     "data": {
      "image/png": "[encoded data removed]",
      "text/plain": [
       "<matplotlib.figure.Figure at 0x24b696142b0>"
      ]
     },
     "metadata": {},
     "output_type": "display_data"
    }
   ],
   "source": [
    "lv_res_review['cool_bin'].value_counts().plot(kind=\"bar\",figsize=(10,10),title=\"Distribution of Number of Cool\")"
   ]
  },
  {
   "cell_type": "code",
   "execution_count": 37,
   "metadata": {},
   "outputs": [
    {
     "data": {
      "text/plain": [
       "cool1      132340\n",
       "cool10      83773\n",
       "coll20       5294\n",
       "cool25+      1232\n",
       "Name: cool_bin, dtype: int64"
      ]
     },
     "execution_count": 37,
     "metadata": {},
     "output_type": "execute_result"
    }
   ],
   "source": [
    "lv_res_review['cool_bin'].value_counts()"
   ]
  },
  {
   "cell_type": "code",
   "execution_count": 38,
   "metadata": {},
   "outputs": [
    {
     "data": {
      "image/png": "[encoded data removed]",
      "text/plain": [
       "<matplotlib.figure.Figure at 0x24b6b07d2b0>"
      ]
     },
     "metadata": {},
     "output_type": "display_data"
    }
   ],
   "source": [
    "createBoxPlot(lv_res_review,\"stars\",'cool_bin')"
   ]
  },
  {
   "cell_type": "code",
   "execution_count": null,
   "metadata": {
    "collapsed": true
   },
   "outputs": [],
   "source": []
  },
  {
   "cell_type": "code",
   "execution_count": null,
   "metadata": {
    "collapsed": true
   },
   "outputs": [],
   "source": []
  },
  {
   "cell_type": "markdown",
   "metadata": {},
   "source": [
    "## 2.2 Funny vs Ratings"
   ]
  },
  {
   "cell_type": "code",
   "execution_count": 39,
   "metadata": {},
   "outputs": [
    {
     "data": {
      "text/plain": [
       "count    849883.000000\n",
       "mean          0.504965\n",
       "std           1.987249\n",
       "min           0.000000\n",
       "25%           0.000000\n",
       "50%           0.000000\n",
       "75%           0.000000\n",
       "max         154.000000\n",
       "Name: funny, dtype: float64"
      ]
     },
     "execution_count": 39,
     "metadata": {},
     "output_type": "execute_result"
    }
   ],
   "source": [
    "lv_res_review['funny'].describe()"
   ]
  },
  {
   "cell_type": "code",
   "execution_count": 40,
   "metadata": {},
   "outputs": [
    {
     "data": {
      "text/plain": [
       "0      671211\n",
       "1      104521\n",
       "2       33199\n",
       "3       14215\n",
       "4        7789\n",
       "5        4876\n",
       "6        3211\n",
       "7        2320\n",
       "8        1673\n",
       "9        1271\n",
       "10        913\n",
       "11        724\n",
       "12        499\n",
       "13        431\n",
       "14        410\n",
       "15        319\n",
       "16        280\n",
       "17        208\n",
       "18        195\n",
       "19        180\n",
       "20        153\n",
       "21        123\n",
       "22        106\n",
       "23        101\n",
       "24         96\n",
       "25         71\n",
       "27         64\n",
       "26         61\n",
       "28         59\n",
       "29         49\n",
       "32         44\n",
       "30         39\n",
       "31         39\n",
       "33         37\n",
       "34         31\n",
       "35         29\n",
       "37         24\n",
       "39         21\n",
       "36         19\n",
       "41         17\n",
       "38         16\n",
       "40         16\n",
       "43         14\n",
       "46         12\n",
       "49         12\n",
       "42         12\n",
       "45         11\n",
       "47         11\n",
       "52          9\n",
       "51          9\n",
       "63          9\n",
       "53          8\n",
       "50          7\n",
       "48          6\n",
       "59          6\n",
       "44          6\n",
       "74          5\n",
       "57          5\n",
       "58          5\n",
       "71          4\n",
       "60          4\n",
       "62          4\n",
       "56          4\n",
       "55          4\n",
       "54          4\n",
       "67          3\n",
       "68          3\n",
       "112         2\n",
       "77          2\n",
       "95          2\n",
       "90          2\n",
       "87          2\n",
       "84          2\n",
       "82          2\n",
       "80          2\n",
       "78          2\n",
       "76          2\n",
       "69          2\n",
       "61          2\n",
       "92          1\n",
       "142         1\n",
       "138         1\n",
       "122         1\n",
       "119         1\n",
       "114         1\n",
       "110         1\n",
       "109         1\n",
       "64          1\n",
       "94          1\n",
       "91          1\n",
       "144         1\n",
       "65          1\n",
       "89          1\n",
       "88          1\n",
       "66          1\n",
       "86          1\n",
       "85          1\n",
       "83          1\n",
       "73          1\n",
       "75          1\n",
       "154         1\n",
       "Name: funny, dtype: int64"
      ]
     },
     "execution_count": 40,
     "metadata": {},
     "output_type": "execute_result"
    }
   ],
   "source": [
    "lv_res_review['funny'].value_counts()"
   ]
  },
  {
   "cell_type": "code",
   "execution_count": 41,
   "metadata": {},
   "outputs": [
    {
     "data": {
      "text/plain": [
       "(0, 14)"
      ]
     },
     "execution_count": 41,
     "metadata": {},
     "output_type": "execute_result"
    },
    {
     "data": {
      "image/png": "[encoded data removed]",
      "text/plain": [
       "<matplotlib.figure.Figure at 0x24b667ba438>"
      ]
     },
     "metadata": {},
     "output_type": "display_data"
    }
   ],
   "source": [
    "lv_res_review['funny'].plot.hist(bins=100, figsize=(10, 10)).set_xlim((0,14))"
   ]
  },
  {
   "cell_type": "code",
   "execution_count": 42,
   "metadata": {
    "collapsed": true
   },
   "outputs": [],
   "source": [
    "bins=[0,1,10,25,160]\n",
    "labels=[\"funny1\",\"funny10\",\"funny20\",\"funny25+\"]"
   ]
  },
  {
   "cell_type": "code",
   "execution_count": 43,
   "metadata": {
    "collapsed": true
   },
   "outputs": [],
   "source": [
    "lv_res_review['funny_bin']= pd.cut(lv_res_review['funny'], bins, labels=labels)"
   ]
  },
  {
   "cell_type": "code",
   "execution_count": 44,
   "metadata": {},
   "outputs": [
    {
     "data": {
      "text/plain": [
       "<matplotlib.axes._subplots.AxesSubplot at 0x24b613eaa58>"
      ]
     },
     "execution_count": 44,
     "metadata": {},
     "output_type": "execute_result"
    },
    {
     "data": {
      "image/png": "[encoded data removed]",
      "text/plain": [
       "<matplotlib.figure.Figure at 0x24b61405e10>"
      ]
     },
     "metadata": {},
     "output_type": "display_data"
    }
   ],
   "source": [
    "lv_res_review['funny_bin'].value_counts().plot(kind=\"bar\",figsize=(10,10),title=\"Distribution of Number of Cool\")"
   ]
  },
  {
   "cell_type": "code",
   "execution_count": 45,
   "metadata": {},
   "outputs": [
    {
     "data": {
      "image/png": "[encoded data removed]",
      "text/plain": [
       "<matplotlib.figure.Figure at 0x24b60f85400>"
      ]
     },
     "metadata": {},
     "output_type": "display_data"
    }
   ],
   "source": [
    "createBoxPlot(lv_res_review,\"stars\",'funny_bin')"
   ]
  },
  {
   "cell_type": "code",
   "execution_count": null,
   "metadata": {
    "collapsed": true
   },
   "outputs": [],
   "source": []
  },
  {
   "cell_type": "markdown",
   "metadata": {},
   "source": [
    "## 2.3 Useful vs Ratings"
   ]
  },
  {
   "cell_type": "code",
   "execution_count": 46,
   "metadata": {},
   "outputs": [
    {
     "data": {
      "text/plain": [
       "count    849883.000000\n",
       "mean          1.012106\n",
       "std           2.814845\n",
       "min           0.000000\n",
       "25%           0.000000\n",
       "50%           0.000000\n",
       "75%           1.000000\n",
       "max         168.000000\n",
       "Name: useful, dtype: float64"
      ]
     },
     "execution_count": 46,
     "metadata": {},
     "output_type": "execute_result"
    }
   ],
   "source": [
    "lv_res_review['useful'].describe()"
   ]
  },
  {
   "cell_type": "code",
   "execution_count": 47,
   "metadata": {},
   "outputs": [
    {
     "data": {
      "text/plain": [
       "0      518608\n",
       "1      173245\n",
       "2       69509\n",
       "3       32256\n",
       "4       17198\n",
       "5       10165\n",
       "6        6649\n",
       "7        4584\n",
       "8        3415\n",
       "9        2512\n",
       "10       1927\n",
       "11       1488\n",
       "12       1173\n",
       "13        992\n",
       "14        772\n",
       "15        617\n",
       "16        540\n",
       "17        474\n",
       "18        404\n",
       "19        340\n",
       "20        328\n",
       "22        240\n",
       "21        220\n",
       "23        195\n",
       "24        193\n",
       "25        171\n",
       "27        135\n",
       "26        132\n",
       "28        116\n",
       "29        104\n",
       "30         98\n",
       "32         89\n",
       "31         82\n",
       "33         70\n",
       "34         61\n",
       "36         55\n",
       "37         49\n",
       "39         49\n",
       "38         44\n",
       "35         41\n",
       "40         41\n",
       "43         40\n",
       "42         31\n",
       "41         30\n",
       "45         26\n",
       "44         26\n",
       "48         22\n",
       "46         21\n",
       "50         20\n",
       "47         17\n",
       "51         17\n",
       "49         14\n",
       "55         13\n",
       "63         11\n",
       "56         11\n",
       "52         10\n",
       "68          9\n",
       "64          9\n",
       "53          9\n",
       "54          9\n",
       "58          9\n",
       "65          7\n",
       "57          7\n",
       "99          6\n",
       "60          6\n",
       "74          6\n",
       "61          5\n",
       "62          5\n",
       "69          5\n",
       "73          4\n",
       "92          4\n",
       "66          4\n",
       "67          4\n",
       "71          4\n",
       "105         3\n",
       "81          3\n",
       "80          3\n",
       "79          3\n",
       "78          3\n",
       "59          3\n",
       "107         3\n",
       "86          3\n",
       "83          3\n",
       "130         2\n",
       "126         2\n",
       "131         2\n",
       "123         2\n",
       "108         2\n",
       "121         2\n",
       "113         2\n",
       "96          2\n",
       "120         2\n",
       "136         2\n",
       "88          2\n",
       "77          2\n",
       "75          2\n",
       "72          2\n",
       "138         1\n",
       "142         1\n",
       "127         1\n",
       "117         1\n",
       "149         1\n",
       "151         1\n",
       "122         1\n",
       "157         1\n",
       "148         1\n",
       "101         1\n",
       "115         1\n",
       "112         1\n",
       "109         1\n",
       "106         1\n",
       "104         1\n",
       "102         1\n",
       "162         1\n",
       "98          1\n",
       "90          1\n",
       "87          1\n",
       "85          1\n",
       "84          1\n",
       "82          1\n",
       "76          1\n",
       "70          1\n",
       "168         1\n",
       "Name: useful, dtype: int64"
      ]
     },
     "execution_count": 47,
     "metadata": {},
     "output_type": "execute_result"
    }
   ],
   "source": [
    "lv_res_review['useful'].value_counts()"
   ]
  },
  {
   "cell_type": "code",
   "execution_count": 48,
   "metadata": {},
   "outputs": [
    {
     "data": {
      "text/plain": [
       "(0, 14)"
      ]
     },
     "execution_count": 48,
     "metadata": {},
     "output_type": "execute_result"
    },
    {
     "data": {
      "image/png": "[encoded data removed]",
      "text/plain": [
       "<matplotlib.figure.Figure at 0x24b6b088c88>"
      ]
     },
     "metadata": {},
     "output_type": "display_data"
    }
   ],
   "source": [
    "lv_res_review['useful'].plot.hist(bins=100, figsize=(10, 10)).set_xlim((0,14))"
   ]
  },
  {
   "cell_type": "code",
   "execution_count": 49,
   "metadata": {
    "collapsed": true
   },
   "outputs": [],
   "source": [
    "bins=[0,1,10,25,170]\n",
    "labels=[\"useful1\",\"useful10\",\"useful20\",\"useful25+\"]"
   ]
  },
  {
   "cell_type": "code",
   "execution_count": 50,
   "metadata": {
    "collapsed": true
   },
   "outputs": [],
   "source": [
    "lv_res_review['useful_bin']= pd.cut(lv_res_review['useful'], bins, labels=labels)"
   ]
  },
  {
   "cell_type": "code",
   "execution_count": 51,
   "metadata": {},
   "outputs": [
    {
     "data": {
      "text/plain": [
       "<matplotlib.axes._subplots.AxesSubplot at 0x24b613f7860>"
      ]
     },
     "execution_count": 51,
     "metadata": {},
     "output_type": "execute_result"
    },
    {
     "data": {
      "image/png": "[encoded data removed]",
      "text/plain": [
       "<matplotlib.figure.Figure at 0x24b6143ec50>"
      ]
     },
     "metadata": {},
     "output_type": "display_data"
    }
   ],
   "source": [
    "lv_res_review['useful_bin'].value_counts().plot(kind=\"bar\",figsize=(10,10),title=\"Distribution of Number of Useful\")"
   ]
  },
  {
   "cell_type": "code",
   "execution_count": 52,
   "metadata": {},
   "outputs": [
    {
     "data": {
      "image/png": "[encoded data removed]",
      "text/plain": [
       "<matplotlib.figure.Figure at 0x24b6556c4a8>"
      ]
     },
     "metadata": {},
     "output_type": "display_data"
    }
   ],
   "source": [
    "createBoxPlot(lv_res_review,\"stars\",'useful_bin')"
   ]
  },
  {
   "cell_type": "code",
   "execution_count": null,
   "metadata": {
    "collapsed": true
   },
   "outputs": [],
   "source": []
  },
  {
   "cell_type": "code",
   "execution_count": null,
   "metadata": {
    "collapsed": true
   },
   "outputs": [],
   "source": []
  },
  {
   "cell_type": "markdown",
   "metadata": {
    "collapsed": true
   },
   "source": [
    "## 3. K-Means Clustering and Principal Component Analysis"
   ]
  },
  {
   "cell_type": "markdown",
   "metadata": {},
   "source": [
    "## 3.1 Preprocess the data"
   ]
  },
  {
   "cell_type": "markdown",
   "metadata": {},
   "source": [
    "We will only use numerical data in this analysis since K-Means is mainly for numerica data."
   ]
  },
  {
   "cell_type": "markdown",
   "metadata": {},
   "source": [
    "Store the user list"
   ]
  },
  {
   "cell_type": "code",
   "execution_count": 154,
   "metadata": {
    "collapsed": true
   },
   "outputs": [],
   "source": [
    "userList=lv_res_user['user_id']"
   ]
  },
  {
   "cell_type": "code",
   "execution_count": 155,
   "metadata": {
    "collapsed": true
   },
   "outputs": [],
   "source": [
    "kmeans_data=lv_res_user.drop(['elite','friends','name','user_id','yelping_since'],axis=1)"
   ]
  },
  {
   "cell_type": "code",
   "execution_count": 156,
   "metadata": {
    "collapsed": true
   },
   "outputs": [],
   "source": [
    "feature_names=kmeans_data.columns.values"
   ]
  },
  {
   "cell_type": "code",
   "execution_count": 157,
   "metadata": {},
   "outputs": [
    {
     "data": {
      "text/plain": [
       "numpy.ndarray"
      ]
     },
     "execution_count": 157,
     "metadata": {},
     "output_type": "execute_result"
    }
   ],
   "source": [
    "kmeans_data=np.array(kmeans_data)\n",
    "type(kmeans_data)"
   ]
  },
  {
   "cell_type": "code",
   "execution_count": null,
   "metadata": {
    "collapsed": true
   },
   "outputs": [],
   "source": []
  },
  {
   "cell_type": "markdown",
   "metadata": {},
   "source": [
    "We need to normalize the data before performing K-Means Clustering"
   ]
  },
  {
   "cell_type": "code",
   "execution_count": 158,
   "metadata": {},
   "outputs": [
    {
     "data": {
      "text/plain": [
       "array([     3.8,   5174. ,    284. ,   5174. ,   5175. ,     78. ,\n",
       "          299. ,   1435. ,   7829. ,   7397. ,    569. ,   1834. ,\n",
       "        16856. ,    209. ,  16605. ,    272. ,  17019. ])"
      ]
     },
     "execution_count": 158,
     "metadata": {},
     "output_type": "execute_result"
    }
   ],
   "source": [
    "kmeans_data[0]"
   ]
  },
  {
   "cell_type": "code",
   "execution_count": 160,
   "metadata": {
    "collapsed": true
   },
   "outputs": [],
   "source": [
    "minMaxscaler =MinMaxScaler()\n",
    "kmeans_data_norm = minMaxscaler.fit_transform(kmeans_data)"
   ]
  },
  {
   "cell_type": "code",
   "execution_count": 161,
   "metadata": {},
   "outputs": [
    {
     "data": {
      "text/plain": [
       "array([ 0.7   ,  0.2762,  0.1323,  0.2762,  0.2589,  0.0348,  0.084 ,\n",
       "        0.2263,  0.2351,  0.4023,  0.1011,  0.2314,  0.0863,  0.0343,\n",
       "        0.1264,  0.0246,  0.0909])"
      ]
     },
     "execution_count": 161,
     "metadata": {},
     "output_type": "execute_result"
    }
   ],
   "source": [
    "kmeans_data_norm[0]"
   ]
  },
  {
   "cell_type": "code",
   "execution_count": null,
   "metadata": {
    "collapsed": true
   },
   "outputs": [],
   "source": []
  },
  {
   "cell_type": "markdown",
   "metadata": {},
   "source": [
    "## 3.2 Perform K-Means Clustering "
   ]
  },
  {
   "cell_type": "code",
   "execution_count": 167,
   "metadata": {
    "collapsed": true
   },
   "outputs": [],
   "source": [
    "kMeans = KMeans(n_clusters=3, max_iter=500, verbose=1)"
   ]
  },
  {
   "cell_type": "code",
   "execution_count": 168,
   "metadata": {},
   "outputs": [
    {
     "name": "stdout",
     "output_type": "stream",
     "text": [
      "Initialization complete\n",
      "start iteration\n",
      "done sorting\n",
      "end inner loop\n",
      "Iteration 0, inertia 3781.84026972\n",
      "start iteration\n",
      "done sorting\n",
      "end inner loop\n",
      "Iteration 1, inertia 3430.62925975\n",
      "start iteration\n",
      "done sorting\n",
      "end inner loop\n",
      "Iteration 2, inertia 3279.82993905\n",
      "start iteration\n",
      "done sorting\n",
      "end inner loop\n",
      "Iteration 3, inertia 3203.22593779\n",
      "start iteration\n",
      "done sorting\n",
      "end inner loop\n",
      "Iteration 4, inertia 3151.36553808\n",
      "start iteration\n",
      "done sorting\n",
      "end inner loop\n",
      "Iteration 5, inertia 3129.92146327\n",
      "start iteration\n",
      "done sorting\n",
      "end inner loop\n",
      "Iteration 6, inertia 3119.24843372\n",
      "start iteration\n",
      "done sorting\n",
      "end inner loop\n",
      "Iteration 7, inertia 3116.93110632\n",
      "start iteration\n",
      "done sorting\n",
      "end inner loop\n",
      "Iteration 8, inertia 3115.69993254\n",
      "start iteration\n",
      "done sorting\n",
      "end inner loop\n",
      "Iteration 9, inertia 3115.45923038\n",
      "start iteration\n",
      "done sorting\n",
      "end inner loop\n",
      "Iteration 10, inertia 3115.45843459\n",
      "center shift 2.717665e-05 within tolerance 2.941643e-07\n",
      "Initialization complete\n",
      "start iteration\n",
      "done sorting\n",
      "end inner loop\n",
      "Iteration 0, inertia 3634.72385742\n",
      "start iteration\n",
      "done sorting\n",
      "end inner loop\n",
      "Iteration 1, inertia 3341.81669625\n",
      "start iteration\n",
      "done sorting\n",
      "end inner loop\n",
      "Iteration 2, inertia 3143.40626975\n",
      "start iteration\n",
      "done sorting\n",
      "end inner loop\n",
      "Iteration 3, inertia 3090.56134066\n",
      "start iteration\n",
      "done sorting\n",
      "end inner loop\n",
      "Iteration 4, inertia 3076.61338469\n",
      "start iteration\n",
      "done sorting\n",
      "end inner loop\n",
      "Iteration 5, inertia 3070.50945999\n",
      "start iteration\n",
      "done sorting\n",
      "end inner loop\n",
      "Iteration 6, inertia 3067.68326873\n",
      "start iteration\n",
      "done sorting\n",
      "end inner loop\n",
      "Iteration 7, inertia 3067.34610914\n",
      "start iteration\n",
      "done sorting\n",
      "end inner loop\n",
      "Iteration 8, inertia 3067.06456679\n",
      "start iteration\n",
      "done sorting\n",
      "end inner loop\n",
      "Iteration 9, inertia 3066.88267265\n",
      "start iteration\n",
      "done sorting\n",
      "end inner loop\n",
      "Iteration 10, inertia 3066.88124152\n",
      "center shift 2.702572e-05 within tolerance 2.941643e-07\n",
      "Initialization complete\n",
      "start iteration\n",
      "done sorting\n",
      "end inner loop\n",
      "Iteration 0, inertia 3270.61528972\n",
      "start iteration\n",
      "done sorting\n",
      "end inner loop\n",
      "Iteration 1, inertia 3132.00093678\n",
      "start iteration\n",
      "done sorting\n",
      "end inner loop\n",
      "Iteration 2, inertia 3118.00848358\n",
      "start iteration\n",
      "done sorting\n",
      "end inner loop\n",
      "Iteration 3, inertia 3117.08896268\n",
      "start iteration\n",
      "done sorting\n",
      "end inner loop\n",
      "Iteration 4, inertia 3117.08542433\n",
      "center shift 5.415879e-05 within tolerance 2.941643e-07\n",
      "Initialization complete\n",
      "start iteration\n",
      "done sorting\n",
      "end inner loop\n",
      "Iteration 0, inertia 3710.38299894\n",
      "start iteration\n",
      "done sorting\n",
      "end inner loop\n",
      "Iteration 1, inertia 3439.60973985\n",
      "start iteration\n",
      "done sorting\n",
      "end inner loop\n",
      "Iteration 2, inertia 3344.89303697\n",
      "start iteration\n",
      "done sorting\n",
      "end inner loop\n",
      "Iteration 3, inertia 3305.06870499\n",
      "start iteration\n",
      "done sorting\n",
      "end inner loop\n",
      "Iteration 4, inertia 3294.75526416\n",
      "start iteration\n",
      "done sorting\n",
      "end inner loop\n",
      "Iteration 5, inertia 3293.29404642\n",
      "start iteration\n",
      "done sorting\n",
      "end inner loop\n",
      "Iteration 6, inertia 3289.8061068\n",
      "start iteration\n",
      "done sorting\n",
      "end inner loop\n",
      "Iteration 7, inertia 3288.98395179\n",
      "start iteration\n",
      "done sorting\n",
      "end inner loop\n",
      "Iteration 8, inertia 3288.98063015\n",
      "center shift 6.842724e-05 within tolerance 2.941643e-07\n",
      "Initialization complete\n",
      "start iteration\n",
      "done sorting\n",
      "end inner loop\n",
      "Iteration 0, inertia 3581.76048851\n",
      "start iteration\n",
      "done sorting\n",
      "end inner loop\n",
      "Iteration 1, inertia 3403.85183317\n",
      "start iteration\n",
      "done sorting\n",
      "end inner loop\n",
      "Iteration 2, inertia 3273.1570462\n",
      "start iteration\n",
      "done sorting\n",
      "end inner loop\n",
      "Iteration 3, inertia 3203.2202233\n",
      "start iteration\n",
      "done sorting\n",
      "end inner loop\n",
      "Iteration 4, inertia 3151.36553808\n",
      "start iteration\n",
      "done sorting\n",
      "end inner loop\n",
      "Iteration 5, inertia 3129.92146327\n",
      "start iteration\n",
      "done sorting\n",
      "end inner loop\n",
      "Iteration 6, inertia 3119.24843372\n",
      "start iteration\n",
      "done sorting\n",
      "end inner loop\n",
      "Iteration 7, inertia 3116.93110632\n",
      "start iteration\n",
      "done sorting\n",
      "end inner loop\n",
      "Iteration 8, inertia 3115.69993254\n",
      "start iteration\n",
      "done sorting\n",
      "end inner loop\n",
      "Iteration 9, inertia 3115.45923038\n",
      "start iteration\n",
      "done sorting\n",
      "end inner loop\n",
      "Iteration 10, inertia 3115.45843459\n",
      "center shift 2.717665e-05 within tolerance 2.941643e-07\n",
      "Initialization complete\n",
      "start iteration\n",
      "done sorting\n",
      "end inner loop\n",
      "Iteration 0, inertia 4256.05029251\n",
      "start iteration\n",
      "done sorting\n",
      "end inner loop\n",
      "Iteration 1, inertia 3851.31925321\n",
      "start iteration\n",
      "done sorting\n",
      "end inner loop\n",
      "Iteration 2, inertia 3638.75110549\n",
      "start iteration\n",
      "done sorting\n",
      "end inner loop\n",
      "Iteration 3, inertia 3459.84225064\n",
      "start iteration\n",
      "done sorting\n",
      "end inner loop\n",
      "Iteration 4, inertia 3306.0008488\n",
      "start iteration\n",
      "done sorting\n",
      "end inner loop\n",
      "Iteration 5, inertia 3223.28278763\n",
      "start iteration\n",
      "done sorting\n",
      "end inner loop\n",
      "Iteration 6, inertia 3166.09424171\n",
      "start iteration\n",
      "done sorting\n",
      "end inner loop\n",
      "Iteration 7, inertia 3134.11238733\n",
      "start iteration\n",
      "done sorting\n",
      "end inner loop\n",
      "Iteration 8, inertia 3121.62622586\n",
      "start iteration\n",
      "done sorting\n",
      "end inner loop\n",
      "Iteration 9, inertia 3116.95834399\n",
      "start iteration\n",
      "done sorting\n",
      "end inner loop\n",
      "Iteration 10, inertia 3115.69993254\n",
      "start iteration\n",
      "done sorting\n",
      "end inner loop\n",
      "Iteration 11, inertia 3115.45923038\n",
      "start iteration\n",
      "done sorting\n",
      "end inner loop\n",
      "Iteration 12, inertia 3115.45843459\n",
      "center shift 2.717665e-05 within tolerance 2.941643e-07\n",
      "Initialization complete\n",
      "start iteration\n",
      "done sorting\n",
      "end inner loop\n",
      "Iteration 0, inertia 3483.76703838\n",
      "start iteration\n",
      "done sorting\n",
      "end inner loop\n",
      "Iteration 1, inertia 3193.76222393\n",
      "start iteration\n",
      "done sorting\n",
      "end inner loop\n",
      "Iteration 2, inertia 3112.21163854\n",
      "start iteration\n",
      "done sorting\n",
      "end inner loop\n",
      "Iteration 3, inertia 3087.28592874\n",
      "start iteration\n",
      "done sorting\n",
      "end inner loop\n",
      "Iteration 4, inertia 3074.43158474\n",
      "start iteration\n",
      "done sorting\n",
      "end inner loop\n",
      "Iteration 5, inertia 3068.82968075\n",
      "start iteration\n",
      "done sorting\n",
      "end inner loop\n",
      "Iteration 6, inertia 3067.43684615\n",
      "start iteration\n",
      "done sorting\n",
      "end inner loop\n",
      "Iteration 7, inertia 3066.61455325\n",
      "start iteration\n",
      "done sorting\n",
      "end inner loop\n",
      "Iteration 8, inertia 3066.61169864\n",
      "center shift 4.272738e-05 within tolerance 2.941643e-07\n",
      "Initialization complete\n",
      "start iteration\n",
      "done sorting\n",
      "end inner loop\n",
      "Iteration 0, inertia 3540.28011992\n",
      "start iteration\n",
      "done sorting\n",
      "end inner loop\n",
      "Iteration 1, inertia 3357.19536734\n",
      "start iteration\n",
      "done sorting\n",
      "end inner loop\n",
      "Iteration 2, inertia 3235.15211789\n",
      "start iteration\n",
      "done sorting\n",
      "end inner loop\n",
      "Iteration 3, inertia 3188.78866594\n",
      "start iteration\n",
      "done sorting\n",
      "end inner loop\n",
      "Iteration 4, inertia 3144.84244666\n",
      "start iteration\n",
      "done sorting\n",
      "end inner loop\n",
      "Iteration 5, inertia 3128.73605195\n",
      "start iteration\n",
      "done sorting\n",
      "end inner loop\n",
      "Iteration 6, inertia 3119.2399019\n",
      "start iteration\n",
      "done sorting\n",
      "end inner loop\n",
      "Iteration 7, inertia 3116.93110632\n",
      "start iteration\n",
      "done sorting\n",
      "end inner loop\n",
      "Iteration 8, inertia 3115.69993254\n",
      "start iteration\n",
      "done sorting\n",
      "end inner loop\n",
      "Iteration 9, inertia 3115.45923038\n",
      "start iteration\n",
      "done sorting\n",
      "end inner loop\n",
      "Iteration 10, inertia 3115.45843459\n",
      "center shift 2.717665e-05 within tolerance 2.941643e-07\n",
      "Initialization complete\n",
      "start iteration\n",
      "done sorting\n",
      "end inner loop\n",
      "Iteration 0, inertia 3466.42962084\n",
      "start iteration\n",
      "done sorting\n",
      "end inner loop\n",
      "Iteration 1, inertia 3159.80109541\n",
      "start iteration\n",
      "done sorting\n",
      "end inner loop\n",
      "Iteration 2, inertia 3122.73878261\n",
      "start iteration\n",
      "done sorting\n",
      "end inner loop\n",
      "Iteration 3, inertia 3117.35131832\n",
      "start iteration\n",
      "done sorting\n",
      "end inner loop\n",
      "Iteration 4, inertia 3117.08600223\n",
      "start iteration\n",
      "done sorting\n",
      "end inner loop\n",
      "Iteration 5, inertia 3117.08542601\n",
      "center shift 2.887998e-05 within tolerance 2.941643e-07\n",
      "Initialization complete\n",
      "start iteration\n",
      "done sorting\n",
      "end inner loop\n",
      "Iteration 0, inertia 3508.4566895\n",
      "start iteration\n",
      "done sorting\n",
      "end inner loop\n",
      "Iteration 1, inertia 3313.28678477\n",
      "start iteration\n",
      "done sorting\n",
      "end inner loop\n",
      "Iteration 2, inertia 3289.6300798\n",
      "start iteration\n",
      "done sorting\n",
      "end inner loop\n",
      "Iteration 3, inertia 3288.98158915\n",
      "start iteration\n",
      "done sorting\n",
      "end inner loop\n",
      "Iteration 4, inertia 3288.98061504\n",
      "center shift 4.784294e-05 within tolerance 2.941643e-07\n"
     ]
    },
    {
     "data": {
      "text/plain": [
       "KMeans(algorithm='auto', copy_x=True, init='k-means++', max_iter=500,\n",
       "    n_clusters=3, n_init=10, n_jobs=1, precompute_distances='auto',\n",
       "    random_state=None, tol=0.0001, verbose=1)"
      ]
     },
     "execution_count": 168,
     "metadata": {},
     "output_type": "execute_result"
    }
   ],
   "source": [
    "kMeans.fit(kmeans_data_norm)"
   ]
  },
  {
   "cell_type": "code",
   "execution_count": 169,
   "metadata": {
    "collapsed": true
   },
   "outputs": [],
   "source": [
    "kmeansPre=kMeans.predict(kmeans_data_norm)\n",
    "centroids=kMeans.cluster_centers_"
   ]
  },
  {
   "cell_type": "code",
   "execution_count": 172,
   "metadata": {},
   "outputs": [
    {
     "data": {
      "text/plain": [
       "array([ 0.7   ,  0.2762,  0.1323,  0.2762,  0.2589,  0.0348,  0.084 ,\n",
       "        0.2263,  0.2351,  0.4023,  0.1011,  0.2314,  0.0863,  0.0343,\n",
       "        0.1264,  0.0246,  0.0909])"
      ]
     },
     "execution_count": 172,
     "metadata": {},
     "output_type": "execute_result"
    }
   ],
   "source": [
    "kmeans_data_norm[kmeansPre==0][0]"
   ]
  },
  {
   "cell_type": "code",
   "execution_count": 173,
   "metadata": {},
   "outputs": [
    {
     "data": {
      "text/plain": [
       "array([ 0.93  ,  0.0008,  0.0005,  0.0008,  0.0003,  0.    ,  0.0003,\n",
       "        0.0017,  0.0002,  0.0011,  0.    ,  0.0001,  0.0003,  0.0028,\n",
       "        0.    ,  0.025 ,  0.0002])"
      ]
     },
     "execution_count": 173,
     "metadata": {},
     "output_type": "execute_result"
    }
   ],
   "source": [
    "kmeans_data_norm[kmeansPre==1][0]"
   ]
  },
  {
   "cell_type": "code",
   "execution_count": 174,
   "metadata": {},
   "outputs": [
    {
     "data": {
      "text/plain": [
       "array([ 0.25  ,  0.    ,  0.    ,  0.    ,  0.    ,  0.    ,  0.    ,\n",
       "        0.    ,  0.    ,  0.    ,  0.    ,  0.    ,  0.    ,  0.    ,\n",
       "        0.    ,  0.0003,  0.0001])"
      ]
     },
     "execution_count": 174,
     "metadata": {},
     "output_type": "execute_result"
    }
   ],
   "source": [
    "kmeans_data_norm[kmeansPre==2][0]"
   ]
  },
  {
   "cell_type": "code",
   "execution_count": null,
   "metadata": {
    "collapsed": true
   },
   "outputs": [],
   "source": []
  },
  {
   "cell_type": "code",
   "execution_count": null,
   "metadata": {
    "collapsed": true
   },
   "outputs": [],
   "source": []
  },
  {
   "cell_type": "code",
   "execution_count": null,
   "metadata": {
    "collapsed": true
   },
   "outputs": [],
   "source": []
  },
  {
   "cell_type": "markdown",
   "metadata": {},
   "source": [
    "## 3.3 Evaluate the Model"
   ]
  },
  {
   "cell_type": "code",
   "execution_count": 175,
   "metadata": {},
   "outputs": [],
   "source": [
    "first_table=pd.DataFrame(centroids,columns=feature_names,index=range(3))"
   ]
  },
  {
   "cell_type": "code",
   "execution_count": 176,
   "metadata": {},
   "outputs": [
    {
     "data": {
      "text/html": [
       "<div>\n",
       "<style>\n",
       "    .dataframe thead tr:only-child th {\n",
       "        text-align: right;\n",
       "    }\n",
       "\n",
       "    .dataframe thead th {\n",
       "        text-align: left;\n",
       "    }\n",
       "\n",
       "    .dataframe tbody tr th {\n",
       "        vertical-align: top;\n",
       "    }\n",
       "</style>\n",
       "<table border=\"1\" class=\"dataframe\">\n",
       "  <thead>\n",
       "    <tr style=\"text-align: right;\">\n",
       "      <th></th>\n",
       "      <th>0</th>\n",
       "      <th>1</th>\n",
       "      <th>2</th>\n",
       "    </tr>\n",
       "  </thead>\n",
       "  <tbody>\n",
       "    <tr>\n",
       "      <th>average_stars</th>\n",
       "      <td>0.641657</td>\n",
       "      <td>0.896427</td>\n",
       "      <td>2.271727e-01</td>\n",
       "    </tr>\n",
       "    <tr>\n",
       "      <th>compliment_cool</th>\n",
       "      <td>0.000807</td>\n",
       "      <td>0.000271</td>\n",
       "      <td>6.294725e-06</td>\n",
       "    </tr>\n",
       "    <tr>\n",
       "      <th>compliment_cute</th>\n",
       "      <td>0.000476</td>\n",
       "      <td>0.000137</td>\n",
       "      <td>5.608098e-06</td>\n",
       "    </tr>\n",
       "    <tr>\n",
       "      <th>compliment_funny</th>\n",
       "      <td>0.000807</td>\n",
       "      <td>0.000271</td>\n",
       "      <td>6.294725e-06</td>\n",
       "    </tr>\n",
       "    <tr>\n",
       "      <th>compliment_hot</th>\n",
       "      <td>0.000569</td>\n",
       "      <td>0.000192</td>\n",
       "      <td>3.136609e-06</td>\n",
       "    </tr>\n",
       "    <tr>\n",
       "      <th>compliment_list</th>\n",
       "      <td>0.000185</td>\n",
       "      <td>0.000044</td>\n",
       "      <td>1.098372e-06</td>\n",
       "    </tr>\n",
       "    <tr>\n",
       "      <th>compliment_more</th>\n",
       "      <td>0.000419</td>\n",
       "      <td>0.000121</td>\n",
       "      <td>1.513781e-05</td>\n",
       "    </tr>\n",
       "    <tr>\n",
       "      <th>compliment_note</th>\n",
       "      <td>0.001027</td>\n",
       "      <td>0.000304</td>\n",
       "      <td>4.004584e-05</td>\n",
       "    </tr>\n",
       "    <tr>\n",
       "      <th>compliment_photos</th>\n",
       "      <td>0.000142</td>\n",
       "      <td>0.000058</td>\n",
       "      <td>7.771922e-07</td>\n",
       "    </tr>\n",
       "    <tr>\n",
       "      <th>compliment_plain</th>\n",
       "      <td>0.000754</td>\n",
       "      <td>0.000279</td>\n",
       "      <td>1.498663e-05</td>\n",
       "    </tr>\n",
       "    <tr>\n",
       "      <th>compliment_profile</th>\n",
       "      <td>0.000186</td>\n",
       "      <td>0.000054</td>\n",
       "      <td>1.395265e-06</td>\n",
       "    </tr>\n",
       "    <tr>\n",
       "      <th>compliment_writer</th>\n",
       "      <td>0.000715</td>\n",
       "      <td>0.000217</td>\n",
       "      <td>9.649058e-06</td>\n",
       "    </tr>\n",
       "    <tr>\n",
       "      <th>cool</th>\n",
       "      <td>0.000388</td>\n",
       "      <td>0.000145</td>\n",
       "      <td>6.498652e-06</td>\n",
       "    </tr>\n",
       "    <tr>\n",
       "      <th>fans</th>\n",
       "      <td>0.000850</td>\n",
       "      <td>0.000337</td>\n",
       "      <td>4.238234e-05</td>\n",
       "    </tr>\n",
       "    <tr>\n",
       "      <th>funny</th>\n",
       "      <td>0.000439</td>\n",
       "      <td>0.000151</td>\n",
       "      <td>1.445935e-05</td>\n",
       "    </tr>\n",
       "    <tr>\n",
       "      <th>review_count</th>\n",
       "      <td>0.006276</td>\n",
       "      <td>0.002354</td>\n",
       "      <td>8.190951e-04</td>\n",
       "    </tr>\n",
       "    <tr>\n",
       "      <th>useful</th>\n",
       "      <td>0.000553</td>\n",
       "      <td>0.000202</td>\n",
       "      <td>3.369112e-05</td>\n",
       "    </tr>\n",
       "  </tbody>\n",
       "</table>\n",
       "</div>"
      ],
      "text/plain": [
       "                           0         1             2\n",
       "average_stars       0.641657  0.896427  2.271727e-01\n",
       "compliment_cool     0.000807  0.000271  6.294725e-06\n",
       "compliment_cute     0.000476  0.000137  5.608098e-06\n",
       "compliment_funny    0.000807  0.000271  6.294725e-06\n",
       "compliment_hot      0.000569  0.000192  3.136609e-06\n",
       "compliment_list     0.000185  0.000044  1.098372e-06\n",
       "compliment_more     0.000419  0.000121  1.513781e-05\n",
       "compliment_note     0.001027  0.000304  4.004584e-05\n",
       "compliment_photos   0.000142  0.000058  7.771922e-07\n",
       "compliment_plain    0.000754  0.000279  1.498663e-05\n",
       "compliment_profile  0.000186  0.000054  1.395265e-06\n",
       "compliment_writer   0.000715  0.000217  9.649058e-06\n",
       "cool                0.000388  0.000145  6.498652e-06\n",
       "fans                0.000850  0.000337  4.238234e-05\n",
       "funny               0.000439  0.000151  1.445935e-05\n",
       "review_count        0.006276  0.002354  8.190951e-04\n",
       "useful              0.000553  0.000202  3.369112e-05"
      ]
     },
     "execution_count": 176,
     "metadata": {},
     "output_type": "execute_result"
    }
   ],
   "source": [
    "first_table.T"
   ]
  },
  {
   "cell_type": "code",
   "execution_count": null,
   "metadata": {
    "collapsed": true
   },
   "outputs": [],
   "source": []
  },
  {
   "cell_type": "markdown",
   "metadata": {},
   "source": [
    "## 3.4 Principal component analysis"
   ]
  },
  {
   "cell_type": "code",
   "execution_count": 177,
   "metadata": {},
   "outputs": [
    {
     "data": {
      "text/plain": [
       "PCA(copy=True, iterated_power='auto', n_components=10, random_state=None,\n",
       "  svd_solver='auto', tol=0.0, whiten=False)"
      ]
     },
     "execution_count": 177,
     "metadata": {},
     "output_type": "execute_result"
    }
   ],
   "source": [
    "pca = decomposition.PCA(n_components=10)\n",
    "pca.fit(kmeans_data_norm)"
   ]
  },
  {
   "cell_type": "code",
   "execution_count": 178,
   "metadata": {},
   "outputs": [
    {
     "data": {
      "text/plain": [
       "array([ 0.9871,  0.0084,  0.0021,  0.0009,  0.0004,  0.0003,  0.0002,\n",
       "        0.0001,  0.0001,  0.0001])"
      ]
     },
     "execution_count": 178,
     "metadata": {},
     "output_type": "execute_result"
    }
   ],
   "source": [
    "pca.explained_variance_ratio_"
   ]
  },
  {
   "cell_type": "code",
   "execution_count": 179,
   "metadata": {},
   "outputs": [
    {
     "data": {
      "text/plain": [
       "array([[-1.    , -0.0002, -0.0001, -0.0002, -0.0002, -0.    , -0.0001,\n",
       "        -0.0001, -0.0001, -0.0002, -0.    , -0.0002, -0.0001, -0.0002,\n",
       "        -0.0001, -0.0002, -0.0001],\n",
       "       [-0.0006,  0.3543,  0.2023,  0.3543,  0.268 ,  0.1046,  0.1651,\n",
       "         0.3658,  0.1173,  0.3411,  0.1162,  0.3009,  0.1918,  0.1273,\n",
       "         0.2105,  0.2971,  0.2104],\n",
       "       [-0.0001, -0.1135, -0.0776, -0.1135, -0.0993, -0.0506, -0.0639,\n",
       "        -0.0688, -0.0834, -0.0925, -0.0715, -0.0862, -0.0842,  0.1117,\n",
       "        -0.1083,  0.9394, -0.0715],\n",
       "       [-0.    , -0.1061, -0.2344, -0.1061, -0.1924, -0.0973, -0.1091,\n",
       "        -0.1483, -0.0539, -0.0231, -0.1114, -0.1256,  0.5301, -0.0312,\n",
       "         0.4515,  0.0306,  0.569 ],\n",
       "       [ 0.0001, -0.2149,  0.5863, -0.2149,  0.003 ,  0.3826,  0.2979,\n",
       "        -0.1184,  0.0647, -0.404 ,  0.3138,  0.0102,  0.0859, -0.0749,\n",
       "         0.1447,  0.061 ,  0.1051],\n",
       "       [ 0.    ,  0.187 , -0.2899,  0.187 ,  0.1783, -0.0927,  0.0485,\n",
       "        -0.4504,  0.3248, -0.3344,  0.0409,  0.3993, -0.0669, -0.3066,\n",
       "         0.2847,  0.0902, -0.1851],\n",
       "       [ 0.0001, -0.1249, -0.3954, -0.1249, -0.5079,  0.3003,  0.3143,\n",
       "         0.2164,  0.0198,  0.2781,  0.2856,  0.2159, -0.0832, -0.3187,\n",
       "         0.0181,  0.036 , -0.0527],\n",
       "       [-0.0001, -0.0782,  0.0495, -0.0782, -0.2059,  0.0995,  0.0318,\n",
       "        -0.5162,  0.0563,  0.3277,  0.0358,  0.3296, -0.0377,  0.6586,\n",
       "         0.0397, -0.0773, -0.0476],\n",
       "       [-0.    , -0.0858, -0.2998, -0.0858, -0.0233, -0.0775,  0.11  ,\n",
       "         0.4725,  0.1016, -0.5565, -0.0122,  0.2584, -0.0258,  0.5037,\n",
       "         0.0021, -0.0901,  0.0641],\n",
       "       [-0.    ,  0.0482, -0.0845,  0.0482,  0.0494,  0.049 ,  0.0298,\n",
       "        -0.1641,  0.0927, -0.0793,  0.0806,  0.2158,  0.4536, -0.0938,\n",
       "        -0.7858,  0.0079,  0.2356]])"
      ]
     },
     "execution_count": 179,
     "metadata": {},
     "output_type": "execute_result"
    }
   ],
   "source": [
    "pca.components_"
   ]
  },
  {
   "cell_type": "code",
   "execution_count": 180,
   "metadata": {},
   "outputs": [
    {
     "data": {
      "text/plain": [
       "array(['average_stars', 'compliment_cool', 'compliment_cute',\n",
       "       'compliment_funny', 'compliment_hot', 'compliment_list',\n",
       "       'compliment_more', 'compliment_note', 'compliment_photos',\n",
       "       'compliment_plain', 'compliment_profile', 'compliment_writer',\n",
       "       'cool', 'fans', 'funny', 'review_count', 'useful'], dtype=object)"
      ]
     },
     "execution_count": 180,
     "metadata": {},
     "output_type": "execute_result"
    }
   ],
   "source": [
    "feature_names"
   ]
  },
  {
   "cell_type": "code",
   "execution_count": null,
   "metadata": {
    "collapsed": true
   },
   "outputs": [],
   "source": []
  },
  {
   "cell_type": "markdown",
   "metadata": {},
   "source": [
    "transform the data into a reduced dimension space"
   ]
  },
  {
   "cell_type": "code",
   "execution_count": 181,
   "metadata": {
    "collapsed": true
   },
   "outputs": [],
   "source": [
    "pca = decomposition.PCA(n_components=1)"
   ]
  },
  {
   "cell_type": "code",
   "execution_count": 182,
   "metadata": {},
   "outputs": [
    {
     "data": {
      "text/plain": [
       "(307484, 1)"
      ]
     },
     "execution_count": 182,
     "metadata": {},
     "output_type": "execute_result"
    }
   ],
   "source": [
    "kmeans_data_norm_transformed = pca.fit(kmeans_data_norm).transform(kmeans_data_norm)\n",
    "kmeans_data_norm_transformed.shape"
   ]
  },
  {
   "cell_type": "code",
   "execution_count": null,
   "metadata": {
    "collapsed": true
   },
   "outputs": [],
   "source": []
  },
  {
   "cell_type": "markdown",
   "metadata": {},
   "source": [
    "## 3.5 Perform K-Means Clustering Again"
   ]
  },
  {
   "cell_type": "code",
   "execution_count": 183,
   "metadata": {
    "collapsed": true
   },
   "outputs": [],
   "source": [
    "kMeans_pca = KMeans(n_clusters=3, max_iter=500, verbose=1)"
   ]
  },
  {
   "cell_type": "code",
   "execution_count": 184,
   "metadata": {},
   "outputs": [
    {
     "name": "stdout",
     "output_type": "stream",
     "text": [
      "Initialization complete\n",
      "start iteration\n",
      "done sorting\n",
      "end inner loop\n",
      "Iteration 0, inertia 3335.9778392\n",
      "start iteration\n",
      "done sorting\n",
      "end inner loop\n",
      "Iteration 1, inertia 2991.13489385\n",
      "start iteration\n",
      "done sorting\n",
      "end inner loop\n",
      "Iteration 2, inertia 2913.51840218\n",
      "start iteration\n",
      "done sorting\n",
      "end inner loop\n",
      "Iteration 3, inertia 2888.84605356\n",
      "start iteration\n",
      "done sorting\n",
      "end inner loop\n",
      "Iteration 4, inertia 2876.11501441\n",
      "start iteration\n",
      "done sorting\n",
      "end inner loop\n",
      "Iteration 5, inertia 2870.65986372\n",
      "start iteration\n",
      "done sorting\n",
      "end inner loop\n",
      "Iteration 6, inertia 2869.63938594\n",
      "start iteration\n",
      "done sorting\n",
      "end inner loop\n",
      "Iteration 7, inertia 2869.63015843\n",
      "center shift 2.519239e-05 within tolerance 4.936177e-06\n",
      "Initialization complete\n",
      "start iteration\n",
      "done sorting\n",
      "end inner loop\n",
      "Iteration 0, inertia 3031.25646921\n",
      "start iteration\n",
      "done sorting\n",
      "end inner loop\n",
      "Iteration 1, inertia 2915.74457813\n",
      "start iteration\n",
      "done sorting\n",
      "end inner loop\n",
      "Iteration 2, inertia 2886.44035178\n",
      "start iteration\n",
      "done sorting\n",
      "end inner loop\n",
      "Iteration 3, inertia 2876.22079833\n",
      "start iteration\n",
      "done sorting\n",
      "end inner loop\n",
      "Iteration 4, inertia 2871.82781086\n",
      "start iteration\n",
      "done sorting\n",
      "end inner loop\n",
      "Iteration 5, inertia 2870.46443077\n",
      "start iteration\n",
      "done sorting\n",
      "end inner loop\n",
      "Iteration 6, inertia 2870.0410913\n",
      "start iteration\n",
      "done sorting\n",
      "end inner loop\n",
      "Iteration 7, inertia 2869.95740283\n",
      "center shift 1.133904e-03 within tolerance 4.936177e-06\n",
      "Initialization complete\n",
      "start iteration\n",
      "done sorting\n",
      "end inner loop\n",
      "Iteration 0, inertia 3157.38967248\n",
      "start iteration\n",
      "done sorting\n",
      "end inner loop\n",
      "Iteration 1, inertia 2922.25066419\n",
      "start iteration\n",
      "done sorting\n",
      "end inner loop\n",
      "Iteration 2, inertia 2878.13017087\n",
      "start iteration\n",
      "done sorting\n",
      "end inner loop\n",
      "Iteration 3, inertia 2872.5605168\n",
      "start iteration\n",
      "done sorting\n",
      "end inner loop\n",
      "Iteration 4, inertia 2870.67527211\n",
      "start iteration\n",
      "done sorting\n",
      "end inner loop\n",
      "Iteration 5, inertia 2869.80524124\n",
      "start iteration\n",
      "done sorting\n",
      "end inner loop\n",
      "Iteration 6, inertia 2869.80524124\n",
      "center shift 0.000000e+00 within tolerance 4.936177e-06\n",
      "Initialization complete\n",
      "start iteration\n",
      "done sorting\n",
      "end inner loop\n",
      "Iteration 0, inertia 3695.69913253\n",
      "start iteration\n",
      "done sorting\n",
      "end inner loop\n",
      "Iteration 1, inertia 3128.78813818\n",
      "start iteration\n",
      "done sorting\n",
      "end inner loop\n",
      "Iteration 2, inertia 2971.60949752\n",
      "start iteration\n",
      "done sorting\n",
      "end inner loop\n",
      "Iteration 3, inertia 2916.06546774\n",
      "start iteration\n",
      "done sorting\n",
      "end inner loop\n",
      "Iteration 4, inertia 2890.70917306\n",
      "start iteration\n",
      "done sorting\n",
      "end inner loop\n",
      "Iteration 5, inertia 2880.4679794\n",
      "start iteration\n",
      "done sorting\n",
      "end inner loop\n",
      "Iteration 6, inertia 2872.88029387\n",
      "start iteration\n",
      "done sorting\n",
      "end inner loop\n",
      "Iteration 7, inertia 2870.68100525\n",
      "start iteration\n",
      "done sorting\n",
      "end inner loop\n",
      "Iteration 8, inertia 2870.0410913\n",
      "start iteration\n",
      "done sorting\n",
      "end inner loop\n",
      "Iteration 9, inertia 2869.95740283\n",
      "center shift 1.133904e-03 within tolerance 4.936177e-06\n",
      "Initialization complete\n",
      "start iteration\n",
      "done sorting\n",
      "end inner loop\n",
      "Iteration 0, inertia 3175.6505471\n",
      "start iteration\n",
      "done sorting\n",
      "end inner loop\n",
      "Iteration 1, inertia 2981.07404158\n",
      "start iteration\n",
      "done sorting\n",
      "end inner loop\n",
      "Iteration 2, inertia 2938.47880062\n",
      "start iteration\n",
      "done sorting\n",
      "end inner loop\n",
      "Iteration 3, inertia 2923.91347953\n",
      "start iteration\n",
      "done sorting\n",
      "end inner loop\n",
      "Iteration 4, inertia 2919.72150416\n",
      "start iteration\n",
      "done sorting\n",
      "end inner loop\n",
      "Iteration 5, inertia 2918.53483125\n",
      "start iteration\n",
      "done sorting\n",
      "end inner loop\n",
      "Iteration 6, inertia 2918.31079202\n",
      "center shift 1.921089e-03 within tolerance 4.936177e-06\n",
      "Initialization complete\n",
      "start iteration\n",
      "done sorting\n",
      "end inner loop\n",
      "Iteration 0, inertia 3450.06749402\n",
      "start iteration\n",
      "done sorting\n",
      "end inner loop\n",
      "Iteration 1, inertia 3001.9464898\n",
      "start iteration\n",
      "done sorting\n",
      "end inner loop\n",
      "Iteration 2, inertia 2909.83759275\n",
      "start iteration\n",
      "done sorting\n",
      "end inner loop\n",
      "Iteration 3, inertia 2887.0645246\n",
      "start iteration\n",
      "done sorting\n",
      "end inner loop\n",
      "Iteration 4, inertia 2875.3116442\n",
      "start iteration\n",
      "done sorting\n",
      "end inner loop\n",
      "Iteration 5, inertia 2870.65986372\n",
      "start iteration\n",
      "done sorting\n",
      "end inner loop\n",
      "Iteration 6, inertia 2869.63938594\n",
      "start iteration\n",
      "done sorting\n",
      "end inner loop\n",
      "Iteration 7, inertia 2869.63015843\n",
      "center shift 2.519239e-05 within tolerance 4.936177e-06\n",
      "Initialization complete\n",
      "start iteration\n",
      "done sorting\n",
      "end inner loop\n",
      "Iteration 0, inertia 3833.04866421\n",
      "start iteration\n",
      "done sorting\n",
      "end inner loop\n",
      "Iteration 1, inertia 3432.68155166\n",
      "start iteration\n",
      "done sorting\n",
      "end inner loop\n",
      "Iteration 2, inertia 3192.13875591\n",
      "start iteration\n",
      "done sorting\n",
      "end inner loop\n",
      "Iteration 3, inertia 3058.0612409\n",
      "start iteration\n",
      "done sorting\n",
      "end inner loop\n",
      "Iteration 4, inertia 2985.0371627\n",
      "start iteration\n",
      "done sorting\n",
      "end inner loop\n",
      "Iteration 5, inertia 2949.06896902\n",
      "start iteration\n",
      "done sorting\n",
      "end inner loop\n",
      "Iteration 6, inertia 2931.68209249\n",
      "start iteration\n",
      "done sorting\n",
      "end inner loop\n",
      "Iteration 7, inertia 2921.95808667\n",
      "start iteration\n",
      "done sorting\n",
      "end inner loop\n",
      "Iteration 8, inertia 2919.72150416\n",
      "start iteration\n",
      "done sorting\n",
      "end inner loop\n",
      "Iteration 9, inertia 2918.53483125\n",
      "start iteration\n",
      "done sorting\n",
      "end inner loop\n",
      "Iteration 10, inertia 2918.31079202\n",
      "center shift 1.921089e-03 within tolerance 4.936177e-06\n",
      "Initialization complete\n",
      "start iteration\n",
      "done sorting\n",
      "end inner loop\n",
      "Iteration 0, inertia 3106.96512871\n",
      "start iteration\n",
      "done sorting\n",
      "end inner loop\n",
      "Iteration 1, inertia 3097.50733532\n",
      "start iteration\n",
      "done sorting\n",
      "end inner loop\n",
      "Iteration 2, inertia 3093.69155457\n",
      "start iteration\n",
      "done sorting\n",
      "end inner loop\n",
      "Iteration 3, inertia 3092.90544465\n",
      "center shift 1.832780e-03 within tolerance 4.936177e-06\n",
      "Initialization complete\n",
      "start iteration\n",
      "done sorting\n",
      "end inner loop\n",
      "Iteration 0, inertia 3554.78862614\n",
      "start iteration\n",
      "done sorting\n",
      "end inner loop\n",
      "Iteration 1, inertia 3026.83901488\n",
      "start iteration\n",
      "done sorting\n",
      "end inner loop\n",
      "Iteration 2, inertia 2910.53811051\n",
      "start iteration\n",
      "done sorting\n",
      "end inner loop\n",
      "Iteration 3, inertia 2886.41961568\n",
      "start iteration\n",
      "done sorting\n",
      "end inner loop\n",
      "Iteration 4, inertia 2876.22079833\n",
      "start iteration\n",
      "done sorting\n",
      "end inner loop\n",
      "Iteration 5, inertia 2871.82781086\n",
      "start iteration\n",
      "done sorting\n",
      "end inner loop\n",
      "Iteration 6, inertia 2870.46443077\n",
      "start iteration\n",
      "done sorting\n",
      "end inner loop\n",
      "Iteration 7, inertia 2870.0410913\n",
      "start iteration\n",
      "done sorting\n",
      "end inner loop\n",
      "Iteration 8, inertia 2869.95740283\n",
      "center shift 1.133904e-03 within tolerance 4.936177e-06\n",
      "Initialization complete\n",
      "start iteration\n",
      "done sorting\n",
      "end inner loop\n",
      "Iteration 0, inertia 3431.19569152\n",
      "start iteration\n",
      "done sorting\n",
      "end inner loop\n",
      "Iteration 1, inertia 2994.98845834\n",
      "start iteration\n",
      "done sorting\n",
      "end inner loop\n",
      "Iteration 2, inertia 2895.54397904\n",
      "start iteration\n",
      "done sorting\n",
      "end inner loop\n",
      "Iteration 3, inertia 2874.42023414\n",
      "start iteration\n",
      "done sorting\n",
      "end inner loop\n",
      "Iteration 4, inertia 2871.82781086\n",
      "start iteration\n",
      "done sorting\n",
      "end inner loop\n",
      "Iteration 5, inertia 2870.46443077\n",
      "start iteration\n",
      "done sorting\n",
      "end inner loop\n",
      "Iteration 6, inertia 2870.0410913\n",
      "start iteration\n",
      "done sorting\n",
      "end inner loop\n",
      "Iteration 7, inertia 2869.95740283\n",
      "center shift 1.133904e-03 within tolerance 4.936177e-06\n"
     ]
    },
    {
     "data": {
      "text/plain": [
       "KMeans(algorithm='auto', copy_x=True, init='k-means++', max_iter=500,\n",
       "    n_clusters=3, n_init=10, n_jobs=1, precompute_distances='auto',\n",
       "    random_state=None, tol=0.0001, verbose=1)"
      ]
     },
     "execution_count": 184,
     "metadata": {},
     "output_type": "execute_result"
    }
   ],
   "source": [
    "kMeans_pca.fit(kmeans_data_norm_transformed)"
   ]
  },
  {
   "cell_type": "code",
   "execution_count": 185,
   "metadata": {
    "collapsed": true
   },
   "outputs": [],
   "source": [
    "kmeansPcaPre=kMeans_pca.predict(kmeans_data_norm_transformed)\n",
    "centroids=kMeans_pca.cluster_centers_"
   ]
  },
  {
   "cell_type": "code",
   "execution_count": 186,
   "metadata": {},
   "outputs": [
    {
     "data": {
      "text/plain": [
       "array([-0.0128])"
      ]
     },
     "execution_count": 186,
     "metadata": {},
     "output_type": "execute_result"
    }
   ],
   "source": [
    "kmeans_data_norm_transformed[kmeansPcaPre==0][0]"
   ]
  },
  {
   "cell_type": "code",
   "execution_count": 187,
   "metadata": {},
   "outputs": [
    {
     "data": {
      "text/plain": [
       "array([-0.2424])"
      ]
     },
     "execution_count": 187,
     "metadata": {},
     "output_type": "execute_result"
    }
   ],
   "source": [
    "kmeans_data_norm_transformed[kmeansPcaPre==1][0]"
   ]
  },
  {
   "cell_type": "code",
   "execution_count": 188,
   "metadata": {},
   "outputs": [
    {
     "data": {
      "text/plain": [
       "array([ 0.4376])"
      ]
     },
     "execution_count": 188,
     "metadata": {},
     "output_type": "execute_result"
    }
   ],
   "source": [
    "kmeans_data_norm_transformed[kmeansPcaPre==2][0]"
   ]
  },
  {
   "cell_type": "code",
   "execution_count": null,
   "metadata": {
    "collapsed": true
   },
   "outputs": [],
   "source": []
  },
  {
   "cell_type": "markdown",
   "metadata": {},
   "source": [
    "## 3.6 Evaluate the Model"
   ]
  },
  {
   "cell_type": "code",
   "execution_count": 189,
   "metadata": {
    "collapsed": true
   },
   "outputs": [],
   "source": [
    "second_table=pd.DataFrame(centroids,columns=['PC1'],index=range(3))"
   ]
  },
  {
   "cell_type": "code",
   "execution_count": 190,
   "metadata": {},
   "outputs": [
    {
     "data": {
      "text/html": [
       "<div>\n",
       "<style>\n",
       "    .dataframe thead tr:only-child th {\n",
       "        text-align: right;\n",
       "    }\n",
       "\n",
       "    .dataframe thead th {\n",
       "        text-align: left;\n",
       "    }\n",
       "\n",
       "    .dataframe tbody tr th {\n",
       "        vertical-align: top;\n",
       "    }\n",
       "</style>\n",
       "<table border=\"1\" class=\"dataframe\">\n",
       "  <thead>\n",
       "    <tr style=\"text-align: right;\">\n",
       "      <th></th>\n",
       "      <th>0</th>\n",
       "      <th>1</th>\n",
       "      <th>2</th>\n",
       "    </tr>\n",
       "  </thead>\n",
       "  <tbody>\n",
       "    <tr>\n",
       "      <th>PC1</th>\n",
       "      <td>0.045965</td>\n",
       "      <td>-0.208796</td>\n",
       "      <td>0.460436</td>\n",
       "    </tr>\n",
       "  </tbody>\n",
       "</table>\n",
       "</div>"
      ],
      "text/plain": [
       "            0         1         2\n",
       "PC1  0.045965 -0.208796  0.460436"
      ]
     },
     "execution_count": 190,
     "metadata": {},
     "output_type": "execute_result"
    }
   ],
   "source": [
    "second_table.T"
   ]
  },
  {
   "cell_type": "code",
   "execution_count": null,
   "metadata": {
    "collapsed": true
   },
   "outputs": [],
   "source": []
  }
 ],
 "metadata": {
  "kernelspec": {
   "display_name": "Python 3",
   "language": "python",
   "name": "python3"
  },
  "language_info": {
   "codemirror_mode": {
    "name": "ipython",
    "version": 3
   },
   "file_extension": ".py",
   "mimetype": "text/x-python",
   "name": "python",
   "nbconvert_exporter": "python",
   "pygments_lexer": "ipython3",
   "version": "3.6.1"
  }
 },
 "nbformat": 4,
 "nbformat_minor": 2
}
